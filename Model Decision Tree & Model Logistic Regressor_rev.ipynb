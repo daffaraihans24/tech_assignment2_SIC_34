{
  "cells": [
    {
      "cell_type": "markdown",
      "metadata": {
        "id": "YTbIXl6DpEy1"
      },
      "source": [
        "# **1. Eksplorasi Data**"
      ]
    },
    {
      "cell_type": "code",
      "execution_count": 1,
      "metadata": {
        "id": "mb4nIq4PPAne"
      },
      "outputs": [],
      "source": [
        "import pandas as pd\n",
        "import matplotlib.pyplot as plt\n",
        "import seaborn as sns\n",
        "from sklearn.model_selection import train_test_split, GridSearchCV, cross_val_score\n",
        "from sklearn.preprocessing import StandardScaler, OneHotEncoder\n",
        "from sklearn.compose import ColumnTransformer\n",
        "from sklearn.pipeline import Pipeline\n",
        "from sklearn.tree import DecisionTreeClassifier\n",
        "from sklearn.linear_model import LogisticRegression\n",
        "from sklearn.metrics import classification_report, confusion_matrix, roc_auc_score, roc_curve, auc, precision_recall_curve\n",
        "from sklearn.metrics import recall_score, f1_score\n"
      ]
    },
    {
      "cell_type": "markdown",
      "metadata": {
        "id": "vi08R4ukpiWP"
      },
      "source": [
        "## **1.1 Memuat Data**"
      ]
    },
    {
      "cell_type": "code",
      "execution_count": 2,
      "metadata": {
        "id": "thrlCnM4PI2c"
      },
      "outputs": [],
      "source": [
        "# URL dari dataset\n",
        "url = 'https://archive.ics.uci.edu/ml/machine-learning-databases/00601/ai4i2020.csv'\n",
        "data = pd.read_csv(url)\n"
      ]
    },
    {
      "cell_type": "markdown",
      "metadata": {
        "id": "lke2tYYOp7n-"
      },
      "source": [
        "## **1.2 Memeriksa Informasi Awal Data**"
      ]
    },
    {
      "cell_type": "code",
      "execution_count": 3,
      "metadata": {
        "colab": {
          "base_uri": "https://localhost:8080/"
        },
        "id": "eNXpx6vKPLoc",
        "outputId": "edee0ef1-af41-4725-9e91-4e053187e849"
      },
      "outputs": [
        {
          "name": "stdout",
          "output_type": "stream",
          "text": [
            "<class 'pandas.core.frame.DataFrame'>\n",
            "RangeIndex: 10000 entries, 0 to 9999\n",
            "Data columns (total 14 columns):\n",
            " #   Column                   Non-Null Count  Dtype  \n",
            "---  ------                   --------------  -----  \n",
            " 0   UDI                      10000 non-null  int64  \n",
            " 1   Product ID               10000 non-null  object \n",
            " 2   Type                     10000 non-null  object \n",
            " 3   Air temperature [K]      10000 non-null  float64\n",
            " 4   Process temperature [K]  10000 non-null  float64\n",
            " 5   Rotational speed [rpm]   10000 non-null  int64  \n",
            " 6   Torque [Nm]              10000 non-null  float64\n",
            " 7   Tool wear [min]          10000 non-null  int64  \n",
            " 8   Machine failure          10000 non-null  int64  \n",
            " 9   TWF                      10000 non-null  int64  \n",
            " 10  HDF                      10000 non-null  int64  \n",
            " 11  PWF                      10000 non-null  int64  \n",
            " 12  OSF                      10000 non-null  int64  \n",
            " 13  RNF                      10000 non-null  int64  \n",
            "dtypes: float64(3), int64(9), object(2)\n",
            "memory usage: 1.1+ MB\n",
            "None\n"
          ]
        }
      ],
      "source": [
        "print(data.info())"
      ]
    },
    {
      "cell_type": "markdown",
      "metadata": {
        "id": "Ni5TEBUrp_aj"
      },
      "source": [
        "## **1.3 Memeriksa Nilai Yang Hilang**"
      ]
    },
    {
      "cell_type": "code",
      "execution_count": 4,
      "metadata": {
        "colab": {
          "base_uri": "https://localhost:8080/"
        },
        "id": "SYH4VBeWPNbu",
        "outputId": "65b11423-8d96-4f95-89bc-2c9d6b4fa089"
      },
      "outputs": [
        {
          "name": "stdout",
          "output_type": "stream",
          "text": [
            "Missing values in each column:\n",
            " UDI                        0\n",
            "Product ID                 0\n",
            "Type                       0\n",
            "Air temperature [K]        0\n",
            "Process temperature [K]    0\n",
            "Rotational speed [rpm]     0\n",
            "Torque [Nm]                0\n",
            "Tool wear [min]            0\n",
            "Machine failure            0\n",
            "TWF                        0\n",
            "HDF                        0\n",
            "PWF                        0\n",
            "OSF                        0\n",
            "RNF                        0\n",
            "dtype: int64\n"
          ]
        }
      ],
      "source": [
        "print(\"Missing values in each column:\\n\", data.isnull().sum())"
      ]
    },
    {
      "cell_type": "markdown",
      "metadata": {
        "id": "j2Dy1ga_qELr"
      },
      "source": [
        "## **1.4 Menghapus Duplikasi**"
      ]
    },
    {
      "cell_type": "code",
      "execution_count": 5,
      "metadata": {
        "id": "qw_FhZMwPQ6Z"
      },
      "outputs": [],
      "source": [
        "data.drop_duplicates(inplace=True)"
      ]
    },
    {
      "cell_type": "markdown",
      "metadata": {
        "id": "EsG5FxI_qG00"
      },
      "source": [
        "## **1.5 Informasi Statistik Deskriptif Data**"
      ]
    },
    {
      "cell_type": "code",
      "execution_count": 6,
      "metadata": {
        "colab": {
          "base_uri": "https://localhost:8080/"
        },
        "id": "blZSW4eAPS8n",
        "outputId": "09434a31-cc1a-489f-acff-9b3b47419c4f"
      },
      "outputs": [
        {
          "name": "stdout",
          "output_type": "stream",
          "text": [
            "Summary statistics:\n",
            "                UDI  Air temperature [K]  Process temperature [K]  \\\n",
            "count  10000.00000         10000.000000             10000.000000   \n",
            "mean    5000.50000           300.004930               310.005560   \n",
            "std     2886.89568             2.000259                 1.483734   \n",
            "min        1.00000           295.300000               305.700000   \n",
            "25%     2500.75000           298.300000               308.800000   \n",
            "50%     5000.50000           300.100000               310.100000   \n",
            "75%     7500.25000           301.500000               311.100000   \n",
            "max    10000.00000           304.500000               313.800000   \n",
            "\n",
            "       Rotational speed [rpm]   Torque [Nm]  Tool wear [min]  Machine failure  \\\n",
            "count            10000.000000  10000.000000     10000.000000     10000.000000   \n",
            "mean              1538.776100     39.986910       107.951000         0.033900   \n",
            "std                179.284096      9.968934        63.654147         0.180981   \n",
            "min               1168.000000      3.800000         0.000000         0.000000   \n",
            "25%               1423.000000     33.200000        53.000000         0.000000   \n",
            "50%               1503.000000     40.100000       108.000000         0.000000   \n",
            "75%               1612.000000     46.800000       162.000000         0.000000   \n",
            "max               2886.000000     76.600000       253.000000         1.000000   \n",
            "\n",
            "                TWF           HDF           PWF           OSF          RNF  \n",
            "count  10000.000000  10000.000000  10000.000000  10000.000000  10000.00000  \n",
            "mean       0.004600      0.011500      0.009500      0.009800      0.00190  \n",
            "std        0.067671      0.106625      0.097009      0.098514      0.04355  \n",
            "min        0.000000      0.000000      0.000000      0.000000      0.00000  \n",
            "25%        0.000000      0.000000      0.000000      0.000000      0.00000  \n",
            "50%        0.000000      0.000000      0.000000      0.000000      0.00000  \n",
            "75%        0.000000      0.000000      0.000000      0.000000      0.00000  \n",
            "max        1.000000      1.000000      1.000000      1.000000      1.00000  \n"
          ]
        }
      ],
      "source": [
        "print(\"Summary statistics:\\n\", data.describe())"
      ]
    },
    {
      "cell_type": "markdown",
      "metadata": {
        "id": "wtGOMamEqRYj"
      },
      "source": [
        "## **1.6 Mendistribusikan Nilai pada kolom \"Type\"**"
      ]
    },
    {
      "cell_type": "code",
      "execution_count": 7,
      "metadata": {
        "colab": {
          "base_uri": "https://localhost:8080/"
        },
        "id": "4XWRMhG4PVIN",
        "outputId": "5ccfb1a1-b7b6-4502-98c1-43b48f25b13b"
      },
      "outputs": [
        {
          "name": "stdout",
          "output_type": "stream",
          "text": [
            "Value counts for 'Type':\n",
            " Type\n",
            "L    6000\n",
            "M    2997\n",
            "H    1003\n",
            "Name: count, dtype: int64\n"
          ]
        }
      ],
      "source": [
        "print(\"Value counts for 'Type':\\n\", data['Type'].value_counts())"
      ]
    },
    {
      "cell_type": "code",
      "execution_count": 8,
      "metadata": {
        "colab": {
          "base_uri": "https://localhost:8080/",
          "height": 671
        },
        "id": "kBqb3r0nPu0A",
        "outputId": "c8eeb355-2016-405f-8eb2-5991b4e32315"
      },
      "outputs": [
        {
          "name": "stderr",
          "output_type": "stream",
          "text": [
            "/tmp/ipykernel_37124/1644464628.py:4: FutureWarning: \n",
            "\n",
            "Passing `palette` without assigning `hue` is deprecated and will be removed in v0.14.0. Assign the `x` variable to `hue` and set `legend=False` for the same effect.\n",
            "\n",
            "  sns.barplot(x=type_counts.index, y=type_counts.values, palette='viridis')\n"
          ]
        },
        {
          "data": {
            "image/png": "[encoded data removed]",
            "text/plain": [
              "<Figure size 1000x600 with 1 Axes>"
            ]
          },
          "metadata": {},
          "output_type": "display_data"
        }
      ],
      "source": [
        "type_counts = data['Type'].value_counts()\n",
        "\n",
        "plt.figure(figsize=(10, 6))\n",
        "sns.barplot(x=type_counts.index, y=type_counts.values, palette='viridis')\n",
        "plt.title(\"Distribusi Nilai pada Kolom 'Type'\")\n",
        "plt.xlabel(\"Type\")\n",
        "plt.ylabel(\"Count\")\n",
        "plt.show()"
      ]
    },
    {
      "cell_type": "markdown",
      "metadata": {
        "id": "ibcMcFZ2qZkA"
      },
      "source": [
        "## **1.7 Mendistribusikan Kegagalan Mesin Berdasarkan Type**"
      ]
    },
    {
      "cell_type": "code",
      "execution_count": 9,
      "metadata": {
        "colab": {
          "base_uri": "https://localhost:8080/"
        },
        "id": "ITDu4vwEQCxz",
        "outputId": "63082e8f-345b-46dd-9330-438d03c08993"
      },
      "outputs": [
        {
          "name": "stdout",
          "output_type": "stream",
          "text": [
            "  Type  Machine failure  count\n",
            "0    H                0    982\n",
            "1    H                1     21\n",
            "2    L                0   5765\n",
            "3    L                1    235\n",
            "4    M                0   2914\n",
            "5    M                1     83\n"
          ]
        }
      ],
      "source": [
        "failure_counts = data.groupby(['Type', 'Machine failure']).size().reset_index(name='count')\n",
        "print(failure_counts)"
      ]
    },
    {
      "cell_type": "code",
      "execution_count": 10,
      "metadata": {
        "colab": {
          "base_uri": "https://localhost:8080/",
          "height": 472
        },
        "id": "B9cur0u6Pe9f",
        "outputId": "fd970b65-c5c9-40f4-db7f-d2801fa457e4"
      },
      "outputs": [
        {
          "data": {
            "image/png": "[encoded data removed]",
            "text/plain": [
              "<Figure size 640x480 with 1 Axes>"
            ]
          },
          "metadata": {},
          "output_type": "display_data"
        }
      ],
      "source": [
        "sns.countplot(x='Type', hue='Machine failure', data=data)\n",
        "plt.title(\"Machine Failure by Type\")\n",
        "plt.show()"
      ]
    },
    {
      "cell_type": "markdown",
      "metadata": {
        "id": "GhZw9CxUrITy"
      },
      "source": [
        "# **2. Persiapan Data untuk Model**"
      ]
    },
    {
      "cell_type": "markdown",
      "metadata": {
        "id": "jJCLGvKfrQ7C"
      },
      "source": [
        "## **2.1 Pemisah Fitur dan Target**"
      ]
    },
    {
      "cell_type": "code",
      "execution_count": 11,
      "metadata": {
        "id": "1OCeqxguQXpZ"
      },
      "outputs": [],
      "source": [
        "X = data.drop(['UDI', 'Product ID', 'Machine failure', 'TWF', 'HDF', 'PWF', 'OSF', 'RNF'], axis=1)\n",
        "y = data['Machine failure']"
      ]
    },
    {
      "cell_type": "markdown",
      "metadata": {
        "id": "I8x2YvWZrVxS"
      },
      "source": [
        "## **2.2 Preprocessing dan Pembentukan Model (Decision Tree & Logistic Regression)**"
      ]
    },
    {
      "cell_type": "code",
      "execution_count": 12,
      "metadata": {
        "id": "iYCnyO2VQZ1q"
      },
      "outputs": [],
      "source": [
        "numeric_features = ['Air temperature [K]', 'Process temperature [K]', 'Rotational speed [rpm]', 'Torque [Nm]', 'Tool wear [min]']\n",
        "categorical_features = ['Type']\n",
        "\n",
        "preprocessor = ColumnTransformer(\n",
        "    transformers=[\n",
        "        ('num', StandardScaler(), numeric_features),\n",
        "        ('cat', OneHotEncoder(), categorical_features)\n",
        "    ])\n",
        "\n",
        "dt_model = Pipeline(steps=[\n",
        "    ('preprocessor', preprocessor),\n",
        "    ('classifier', DecisionTreeClassifier(random_state=42))\n",
        "])\n",
        "\n",
        "lr_model = Pipeline(steps=[\n",
        "    ('preprocessor', preprocessor),\n",
        "    ('classifier', LogisticRegression(max_iter=1000, random_state=42))\n",
        "])"
      ]
    },
    {
      "cell_type": "markdown",
      "metadata": {
        "id": "rgUfaUvFrkvU"
      },
      "source": [
        "## **2.3 Pemisahan Data untuk Pelatihan dan Pengujian**"
      ]
    },
    {
      "cell_type": "code",
      "execution_count": 13,
      "metadata": {
        "id": "1hqKODePQuJB"
      },
      "outputs": [],
      "source": [
        "X_train, X_temp, y_train, y_temp = train_test_split(X, y, test_size=0.4, random_state=42, stratify=y)\n",
        "X_val, X_test, y_val, y_test = train_test_split(X_temp, y_temp, test_size=0.5, random_state=42, stratify=y_temp)"
      ]
    },
    {
      "cell_type": "markdown",
      "metadata": {
        "id": "clPtQplBrpyf"
      },
      "source": [
        "## **2.4 Pelatihan Model Decision Tree**"
      ]
    },
    {
      "cell_type": "code",
      "execution_count": 14,
      "metadata": {
        "colab": {
          "base_uri": "https://localhost:8080/",
          "height": 195
        },
        "id": "YkgAmiaPQyeh",
        "outputId": "6bdf8adb-7865-487c-852c-cb4285d86959"
      },
      "outputs": [
        {
          "data": {
            "text/html": [
              "<style>#sk-container-id-1 {\n",
              "  /* Definition of color scheme common for light and dark mode */\n",
              "  --sklearn-color-text: black;\n",
              "  --sklearn-color-line: gray;\n",
              "  /* Definition of color scheme for unfitted estimators */\n",
              "  --sklearn-color-unfitted-level-0: #fff5e6;\n",
              "  --sklearn-color-unfitted-level-1: #f6e4d2;\n",
              "  --sklearn-color-unfitted-level-2: #ffe0b3;\n",
              "  --sklearn-color-unfitted-level-3: chocolate;\n",
              "  /* Definition of color scheme for fitted estimators */\n",
              "  --sklearn-color-fitted-level-0: #f0f8ff;\n",
              "  --sklearn-color-fitted-level-1: #d4ebff;\n",
              "  --sklearn-color-fitted-level-2: #b3dbfd;\n",
              "  --sklearn-color-fitted-level-3: cornflowerblue;\n",
              "\n",
              "  /* Specific color for light theme */\n",
              "  --sklearn-color-text-on-default-background: var(--sg-text-color, var(--theme-code-foreground, var(--jp-content-font-color1, black)));\n",
              "  --sklearn-color-background: var(--sg-background-color, var(--theme-background, var(--jp-layout-color0, white)));\n",
              "  --sklearn-color-border-box: var(--sg-text-color, var(--theme-code-foreground, var(--jp-content-font-color1, black)));\n",
              "  --sklearn-color-icon: #696969;\n",
              "\n",
              "  @media (prefers-color-scheme: dark) {\n",
              "    /* Redefinition of color scheme for dark theme */\n",
              "    --sklearn-color-text-on-default-background: var(--sg-text-color, var(--theme-code-foreground, var(--jp-content-font-color1, white)));\n",
              "    --sklearn-color-background: var(--sg-background-color, var(--theme-background, var(--jp-layout-color0, #111)));\n",
              "    --sklearn-color-border-box: var(--sg-text-color, var(--theme-code-foreground, var(--jp-content-font-color1, white)));\n",
              "    --sklearn-color-icon: #878787;\n",
              "  }\n",
              "}\n",
              "\n",
              "#sk-container-id-1 {\n",
              "  color: var(--sklearn-color-text);\n",
              "}\n",
              "\n",
              "#sk-container-id-1 pre {\n",
              "  padding: 0;\n",
              "}\n",
              "\n",
              "#sk-container-id-1 input.sk-hidden--visually {\n",
              "  border: 0;\n",
              "  clip: rect(1px 1px 1px 1px);\n",
              "  clip: rect(1px, 1px, 1px, 1px);\n",
              "  height: 1px;\n",
              "  margin: -1px;\n",
              "  overflow: hidden;\n",
              "  padding: 0;\n",
              "  position: absolute;\n",
              "  width: 1px;\n",
              "}\n",
              "\n",
              "#sk-container-id-1 div.sk-dashed-wrapped {\n",
              "  border: 1px dashed var(--sklearn-color-line);\n",
              "  margin: 0 0.4em 0.5em 0.4em;\n",
              "  box-sizing: border-box;\n",
              "  padding-bottom: 0.4em;\n",
              "  background-color: var(--sklearn-color-background);\n",
              "}\n",
              "\n",
              "#sk-container-id-1 div.sk-container {\n",
              "  /* jupyter's `normalize.less` sets `[hidden] { display: none; }`\n",
              "     but bootstrap.min.css set `[hidden] { display: none !important; }`\n",
              "     so we also need the `!important` here to be able to override the\n",
              "     default hidden behavior on the sphinx rendered scikit-learn.org.\n",
              "     See: https://github.com/scikit-learn/scikit-learn/issues/21755 */\n",
              "  display: inline-block !important;\n",
              "  position: relative;\n",
              "}\n",
              "\n",
              "#sk-container-id-1 div.sk-text-repr-fallback {\n",
              "  display: none;\n",
              "}\n",
              "\n",
              "div.sk-parallel-item,\n",
              "div.sk-serial,\n",
              "div.sk-item {\n",
              "  /* draw centered vertical line to link estimators */\n",
              "  background-image: linear-gradient(var(--sklearn-color-text-on-default-background), var(--sklearn-color-text-on-default-background));\n",
              "  background-size: 2px 100%;\n",
              "  background-repeat: no-repeat;\n",
              "  background-position: center center;\n",
              "}\n",
              "\n",
              "/* Parallel-specific style estimator block */\n",
              "\n",
              "#sk-container-id-1 div.sk-parallel-item::after {\n",
              "  content: \"\";\n",
              "  width: 100%;\n",
              "  border-bottom: 2px solid var(--sklearn-color-text-on-default-background);\n",
              "  flex-grow: 1;\n",
              "}\n",
              "\n",
              "#sk-container-id-1 div.sk-parallel {\n",
              "  display: flex;\n",
              "  align-items: stretch;\n",
              "  justify-content: center;\n",
              "  background-color: var(--sklearn-color-background);\n",
              "  position: relative;\n",
              "}\n",
              "\n",
              "#sk-container-id-1 div.sk-parallel-item {\n",
              "  display: flex;\n",
              "  flex-direction: column;\n",
              "}\n",
              "\n",
              "#sk-container-id-1 div.sk-parallel-item:first-child::after {\n",
              "  align-self: flex-end;\n",
              "  width: 50%;\n",
              "}\n",
              "\n",
              "#sk-container-id-1 div.sk-parallel-item:last-child::after {\n",
              "  align-self: flex-start;\n",
              "  width: 50%;\n",
              "}\n",
              "\n",
              "#sk-container-id-1 div.sk-parallel-item:only-child::after {\n",
              "  width: 0;\n",
              "}\n",
              "\n",
              "/* Serial-specific style estimator block */\n",
              "\n",
              "#sk-container-id-1 div.sk-serial {\n",
              "  display: flex;\n",
              "  flex-direction: column;\n",
              "  align-items: center;\n",
              "  background-color: var(--sklearn-color-background);\n",
              "  padding-right: 1em;\n",
              "  padding-left: 1em;\n",
              "}\n",
              "\n",
              "\n",
              "/* Toggleable style: style used for estimator/Pipeline/ColumnTransformer box that is\n",
              "clickable and can be expanded/collapsed.\n",
              "- Pipeline and ColumnTransformer use this feature and define the default style\n",
              "- Estimators will overwrite some part of the style using the `sk-estimator` class\n",
              "*/\n",
              "\n",
              "/* Pipeline and ColumnTransformer style (default) */\n",
              "\n",
              "#sk-container-id-1 div.sk-toggleable {\n",
              "  /* Default theme specific background. It is overwritten whether we have a\n",
              "  specific estimator or a Pipeline/ColumnTransformer */\n",
              "  background-color: var(--sklearn-color-background);\n",
              "}\n",
              "\n",
              "/* Toggleable label */\n",
              "#sk-container-id-1 label.sk-toggleable__label {\n",
              "  cursor: pointer;\n",
              "  display: block;\n",
              "  width: 100%;\n",
              "  margin-bottom: 0;\n",
              "  padding: 0.5em;\n",
              "  box-sizing: border-box;\n",
              "  text-align: center;\n",
              "}\n",
              "\n",
              "#sk-container-id-1 label.sk-toggleable__label-arrow:before {\n",
              "  /* Arrow on the left of the label */\n",
              "  content: \"▸\";\n",
              "  float: left;\n",
              "  margin-right: 0.25em;\n",
              "  color: var(--sklearn-color-icon);\n",
              "}\n",
              "\n",
              "#sk-container-id-1 label.sk-toggleable__label-arrow:hover:before {\n",
              "  color: var(--sklearn-color-text);\n",
              "}\n",
              "\n",
              "/* Toggleable content - dropdown */\n",
              "\n",
              "#sk-container-id-1 div.sk-toggleable__content {\n",
              "  max-height: 0;\n",
              "  max-width: 0;\n",
              "  overflow: hidden;\n",
              "  text-align: left;\n",
              "  /* unfitted */\n",
              "  background-color: var(--sklearn-color-unfitted-level-0);\n",
              "}\n",
              "\n",
              "#sk-container-id-1 div.sk-toggleable__content.fitted {\n",
              "  /* fitted */\n",
              "  background-color: var(--sklearn-color-fitted-level-0);\n",
              "}\n",
              "\n",
              "#sk-container-id-1 div.sk-toggleable__content pre {\n",
              "  margin: 0.2em;\n",
              "  border-radius: 0.25em;\n",
              "  color: var(--sklearn-color-text);\n",
              "  /* unfitted */\n",
              "  background-color: var(--sklearn-color-unfitted-level-0);\n",
              "}\n",
              "\n",
              "#sk-container-id-1 div.sk-toggleable__content.fitted pre {\n",
              "  /* unfitted */\n",
              "  background-color: var(--sklearn-color-fitted-level-0);\n",
              "}\n",
              "\n",
              "#sk-container-id-1 input.sk-toggleable__control:checked~div.sk-toggleable__content {\n",
              "  /* Expand drop-down */\n",
              "  max-height: 200px;\n",
              "  max-width: 100%;\n",
              "  overflow: auto;\n",
              "}\n",
              "\n",
              "#sk-container-id-1 input.sk-toggleable__control:checked~label.sk-toggleable__label-arrow:before {\n",
              "  content: \"▾\";\n",
              "}\n",
              "\n",
              "/* Pipeline/ColumnTransformer-specific style */\n",
              "\n",
              "#sk-container-id-1 div.sk-label input.sk-toggleable__control:checked~label.sk-toggleable__label {\n",
              "  color: var(--sklearn-color-text);\n",
              "  background-color: var(--sklearn-color-unfitted-level-2);\n",
              "}\n",
              "\n",
              "#sk-container-id-1 div.sk-label.fitted input.sk-toggleable__control:checked~label.sk-toggleable__label {\n",
              "  background-color: var(--sklearn-color-fitted-level-2);\n",
              "}\n",
              "\n",
              "/* Estimator-specific style */\n",
              "\n",
              "/* Colorize estimator box */\n",
              "#sk-container-id-1 div.sk-estimator input.sk-toggleable__control:checked~label.sk-toggleable__label {\n",
              "  /* unfitted */\n",
              "  background-color: var(--sklearn-color-unfitted-level-2);\n",
              "}\n",
              "\n",
              "#sk-container-id-1 div.sk-estimator.fitted input.sk-toggleable__control:checked~label.sk-toggleable__label {\n",
              "  /* fitted */\n",
              "  background-color: var(--sklearn-color-fitted-level-2);\n",
              "}\n",
              "\n",
              "#sk-container-id-1 div.sk-label label.sk-toggleable__label,\n",
              "#sk-container-id-1 div.sk-label label {\n",
              "  /* The background is the default theme color */\n",
              "  color: var(--sklearn-color-text-on-default-background);\n",
              "}\n",
              "\n",
              "/* On hover, darken the color of the background */\n",
              "#sk-container-id-1 div.sk-label:hover label.sk-toggleable__label {\n",
              "  color: var(--sklearn-color-text);\n",
              "  background-color: var(--sklearn-color-unfitted-level-2);\n",
              "}\n",
              "\n",
              "/* Label box, darken color on hover, fitted */\n",
              "#sk-container-id-1 div.sk-label.fitted:hover label.sk-toggleable__label.fitted {\n",
              "  color: var(--sklearn-color-text);\n",
              "  background-color: var(--sklearn-color-fitted-level-2);\n",
              "}\n",
              "\n",
              "/* Estimator label */\n",
              "\n",
              "#sk-container-id-1 div.sk-label label {\n",
              "  font-family: monospace;\n",
              "  font-weight: bold;\n",
              "  display: inline-block;\n",
              "  line-height: 1.2em;\n",
              "}\n",
              "\n",
              "#sk-container-id-1 div.sk-label-container {\n",
              "  text-align: center;\n",
              "}\n",
              "\n",
              "/* Estimator-specific */\n",
              "#sk-container-id-1 div.sk-estimator {\n",
              "  font-family: monospace;\n",
              "  border: 1px dotted var(--sklearn-color-border-box);\n",
              "  border-radius: 0.25em;\n",
              "  box-sizing: border-box;\n",
              "  margin-bottom: 0.5em;\n",
              "  /* unfitted */\n",
              "  background-color: var(--sklearn-color-unfitted-level-0);\n",
              "}\n",
              "\n",
              "#sk-container-id-1 div.sk-estimator.fitted {\n",
              "  /* fitted */\n",
              "  background-color: var(--sklearn-color-fitted-level-0);\n",
              "}\n",
              "\n",
              "/* on hover */\n",
              "#sk-container-id-1 div.sk-estimator:hover {\n",
              "  /* unfitted */\n",
              "  background-color: var(--sklearn-color-unfitted-level-2);\n",
              "}\n",
              "\n",
              "#sk-container-id-1 div.sk-estimator.fitted:hover {\n",
              "  /* fitted */\n",
              "  background-color: var(--sklearn-color-fitted-level-2);\n",
              "}\n",
              "\n",
              "/* Specification for estimator info (e.g. \"i\" and \"?\") */\n",
              "\n",
              "/* Common style for \"i\" and \"?\" */\n",
              "\n",
              ".sk-estimator-doc-link,\n",
              "a:link.sk-estimator-doc-link,\n",
              "a:visited.sk-estimator-doc-link {\n",
              "  float: right;\n",
              "  font-size: smaller;\n",
              "  line-height: 1em;\n",
              "  font-family: monospace;\n",
              "  background-color: var(--sklearn-color-background);\n",
              "  border-radius: 1em;\n",
              "  height: 1em;\n",
              "  width: 1em;\n",
              "  text-decoration: none !important;\n",
              "  margin-left: 1ex;\n",
              "  /* unfitted */\n",
              "  border: var(--sklearn-color-unfitted-level-1) 1pt solid;\n",
              "  color: var(--sklearn-color-unfitted-level-1);\n",
              "}\n",
              "\n",
              ".sk-estimator-doc-link.fitted,\n",
              "a:link.sk-estimator-doc-link.fitted,\n",
              "a:visited.sk-estimator-doc-link.fitted {\n",
              "  /* fitted */\n",
              "  border: var(--sklearn-color-fitted-level-1) 1pt solid;\n",
              "  color: var(--sklearn-color-fitted-level-1);\n",
              "}\n",
              "\n",
              "/* On hover */\n",
              "div.sk-estimator:hover .sk-estimator-doc-link:hover,\n",
              ".sk-estimator-doc-link:hover,\n",
              "div.sk-label-container:hover .sk-estimator-doc-link:hover,\n",
              ".sk-estimator-doc-link:hover {\n",
              "  /* unfitted */\n",
              "  background-color: var(--sklearn-color-unfitted-level-3);\n",
              "  color: var(--sklearn-color-background);\n",
              "  text-decoration: none;\n",
              "}\n",
              "\n",
              "div.sk-estimator.fitted:hover .sk-estimator-doc-link.fitted:hover,\n",
              ".sk-estimator-doc-link.fitted:hover,\n",
              "div.sk-label-container:hover .sk-estimator-doc-link.fitted:hover,\n",
              ".sk-estimator-doc-link.fitted:hover {\n",
              "  /* fitted */\n",
              "  background-color: var(--sklearn-color-fitted-level-3);\n",
              "  color: var(--sklearn-color-background);\n",
              "  text-decoration: none;\n",
              "}\n",
              "\n",
              "/* Span, style for the box shown on hovering the info icon */\n",
              ".sk-estimator-doc-link span {\n",
              "  display: none;\n",
              "  z-index: 9999;\n",
              "  position: relative;\n",
              "  font-weight: normal;\n",
              "  right: .2ex;\n",
              "  padding: .5ex;\n",
              "  margin: .5ex;\n",
              "  width: min-content;\n",
              "  min-width: 20ex;\n",
              "  max-width: 50ex;\n",
              "  color: var(--sklearn-color-text);\n",
              "  box-shadow: 2pt 2pt 4pt #999;\n",
              "  /* unfitted */\n",
              "  background: var(--sklearn-color-unfitted-level-0);\n",
              "  border: .5pt solid var(--sklearn-color-unfitted-level-3);\n",
              "}\n",
              "\n",
              ".sk-estimator-doc-link.fitted span {\n",
              "  /* fitted */\n",
              "  background: var(--sklearn-color-fitted-level-0);\n",
              "  border: var(--sklearn-color-fitted-level-3);\n",
              "}\n",
              "\n",
              ".sk-estimator-doc-link:hover span {\n",
              "  display: block;\n",
              "}\n",
              "\n",
              "/* \"?\"-specific style due to the `<a>` HTML tag */\n",
              "\n",
              "#sk-container-id-1 a.estimator_doc_link {\n",
              "  float: right;\n",
              "  font-size: 1rem;\n",
              "  line-height: 1em;\n",
              "  font-family: monospace;\n",
              "  background-color: var(--sklearn-color-background);\n",
              "  border-radius: 1rem;\n",
              "  height: 1rem;\n",
              "  width: 1rem;\n",
              "  text-decoration: none;\n",
              "  /* unfitted */\n",
              "  color: var(--sklearn-color-unfitted-level-1);\n",
              "  border: var(--sklearn-color-unfitted-level-1) 1pt solid;\n",
              "}\n",
              "\n",
              "#sk-container-id-1 a.estimator_doc_link.fitted {\n",
              "  /* fitted */\n",
              "  border: var(--sklearn-color-fitted-level-1) 1pt solid;\n",
              "  color: var(--sklearn-color-fitted-level-1);\n",
              "}\n",
              "\n",
              "/* On hover */\n",
              "#sk-container-id-1 a.estimator_doc_link:hover {\n",
              "  /* unfitted */\n",
              "  background-color: var(--sklearn-color-unfitted-level-3);\n",
              "  color: var(--sklearn-color-background);\n",
              "  text-decoration: none;\n",
              "}\n",
              "\n",
              "#sk-container-id-1 a.estimator_doc_link.fitted:hover {\n",
              "  /* fitted */\n",
              "  background-color: var(--sklearn-color-fitted-level-3);\n",
              "}\n",
              "</style><div id=\"sk-container-id-1\" class=\"sk-top-container\"><div class=\"sk-text-repr-fallback\"><pre>Pipeline(steps=[(&#x27;preprocessor&#x27;,\n",
              "                 ColumnTransformer(transformers=[(&#x27;num&#x27;, StandardScaler(),\n",
              "                                                  [&#x27;Air temperature [K]&#x27;,\n",
              "                                                   &#x27;Process temperature [K]&#x27;,\n",
              "                                                   &#x27;Rotational speed [rpm]&#x27;,\n",
              "                                                   &#x27;Torque [Nm]&#x27;,\n",
              "                                                   &#x27;Tool wear [min]&#x27;]),\n",
              "                                                 (&#x27;cat&#x27;, OneHotEncoder(),\n",
              "                                                  [&#x27;Type&#x27;])])),\n",
              "                (&#x27;classifier&#x27;, DecisionTreeClassifier(random_state=42))])</pre><b>In a Jupyter environment, please rerun this cell to show the HTML representation or trust the notebook. <br />On GitHub, the HTML representation is unable to render, please try loading this page with nbviewer.org.</b></div><div class=\"sk-container\" hidden><div class=\"sk-item sk-dashed-wrapped\"><div class=\"sk-label-container\"><div class=\"sk-label fitted sk-toggleable\"><input class=\"sk-toggleable__control sk-hidden--visually\" id=\"sk-estimator-id-1\" type=\"checkbox\" ><label for=\"sk-estimator-id-1\" class=\"sk-toggleable__label fitted sk-toggleable__label-arrow fitted\">&nbsp;&nbsp;Pipeline<a class=\"sk-estimator-doc-link fitted\" rel=\"noreferrer\" target=\"_blank\" href=\"https://scikit-learn.org/1.5/modules/generated/sklearn.pipeline.Pipeline.html\">?<span>Documentation for Pipeline</span></a><span class=\"sk-estimator-doc-link fitted\">i<span>Fitted</span></span></label><div class=\"sk-toggleable__content fitted\"><pre>Pipeline(steps=[(&#x27;preprocessor&#x27;,\n",
              "                 ColumnTransformer(transformers=[(&#x27;num&#x27;, StandardScaler(),\n",
              "                                                  [&#x27;Air temperature [K]&#x27;,\n",
              "                                                   &#x27;Process temperature [K]&#x27;,\n",
              "                                                   &#x27;Rotational speed [rpm]&#x27;,\n",
              "                                                   &#x27;Torque [Nm]&#x27;,\n",
              "                                                   &#x27;Tool wear [min]&#x27;]),\n",
              "                                                 (&#x27;cat&#x27;, OneHotEncoder(),\n",
              "                                                  [&#x27;Type&#x27;])])),\n",
              "                (&#x27;classifier&#x27;, DecisionTreeClassifier(random_state=42))])</pre></div> </div></div><div class=\"sk-serial\"><div class=\"sk-item sk-dashed-wrapped\"><div class=\"sk-label-container\"><div class=\"sk-label fitted sk-toggleable\"><input class=\"sk-toggleable__control sk-hidden--visually\" id=\"sk-estimator-id-2\" type=\"checkbox\" ><label for=\"sk-estimator-id-2\" class=\"sk-toggleable__label fitted sk-toggleable__label-arrow fitted\">&nbsp;preprocessor: ColumnTransformer<a class=\"sk-estimator-doc-link fitted\" rel=\"noreferrer\" target=\"_blank\" href=\"https://scikit-learn.org/1.5/modules/generated/sklearn.compose.ColumnTransformer.html\">?<span>Documentation for preprocessor: ColumnTransformer</span></a></label><div class=\"sk-toggleable__content fitted\"><pre>ColumnTransformer(transformers=[(&#x27;num&#x27;, StandardScaler(),\n",
              "                                 [&#x27;Air temperature [K]&#x27;,\n",
              "                                  &#x27;Process temperature [K]&#x27;,\n",
              "                                  &#x27;Rotational speed [rpm]&#x27;, &#x27;Torque [Nm]&#x27;,\n",
              "                                  &#x27;Tool wear [min]&#x27;]),\n",
              "                                (&#x27;cat&#x27;, OneHotEncoder(), [&#x27;Type&#x27;])])</pre></div> </div></div><div class=\"sk-parallel\"><div class=\"sk-parallel-item\"><div class=\"sk-item\"><div class=\"sk-label-container\"><div class=\"sk-label fitted sk-toggleable\"><input class=\"sk-toggleable__control sk-hidden--visually\" id=\"sk-estimator-id-3\" type=\"checkbox\" ><label for=\"sk-estimator-id-3\" class=\"sk-toggleable__label fitted sk-toggleable__label-arrow fitted\">num</label><div class=\"sk-toggleable__content fitted\"><pre>[&#x27;Air temperature [K]&#x27;, &#x27;Process temperature [K]&#x27;, &#x27;Rotational speed [rpm]&#x27;, &#x27;Torque [Nm]&#x27;, &#x27;Tool wear [min]&#x27;]</pre></div> </div></div><div class=\"sk-serial\"><div class=\"sk-item\"><div class=\"sk-estimator fitted sk-toggleable\"><input class=\"sk-toggleable__control sk-hidden--visually\" id=\"sk-estimator-id-4\" type=\"checkbox\" ><label for=\"sk-estimator-id-4\" class=\"sk-toggleable__label fitted sk-toggleable__label-arrow fitted\">&nbsp;StandardScaler<a class=\"sk-estimator-doc-link fitted\" rel=\"noreferrer\" target=\"_blank\" href=\"https://scikit-learn.org/1.5/modules/generated/sklearn.preprocessing.StandardScaler.html\">?<span>Documentation for StandardScaler</span></a></label><div class=\"sk-toggleable__content fitted\"><pre>StandardScaler()</pre></div> </div></div></div></div></div><div class=\"sk-parallel-item\"><div class=\"sk-item\"><div class=\"sk-label-container\"><div class=\"sk-label fitted sk-toggleable\"><input class=\"sk-toggleable__control sk-hidden--visually\" id=\"sk-estimator-id-5\" type=\"checkbox\" ><label for=\"sk-estimator-id-5\" class=\"sk-toggleable__label fitted sk-toggleable__label-arrow fitted\">cat</label><div class=\"sk-toggleable__content fitted\"><pre>[&#x27;Type&#x27;]</pre></div> </div></div><div class=\"sk-serial\"><div class=\"sk-item\"><div class=\"sk-estimator fitted sk-toggleable\"><input class=\"sk-toggleable__control sk-hidden--visually\" id=\"sk-estimator-id-6\" type=\"checkbox\" ><label for=\"sk-estimator-id-6\" class=\"sk-toggleable__label fitted sk-toggleable__label-arrow fitted\">&nbsp;OneHotEncoder<a class=\"sk-estimator-doc-link fitted\" rel=\"noreferrer\" target=\"_blank\" href=\"https://scikit-learn.org/1.5/modules/generated/sklearn.preprocessing.OneHotEncoder.html\">?<span>Documentation for OneHotEncoder</span></a></label><div class=\"sk-toggleable__content fitted\"><pre>OneHotEncoder()</pre></div> </div></div></div></div></div></div></div><div class=\"sk-item\"><div class=\"sk-estimator fitted sk-toggleable\"><input class=\"sk-toggleable__control sk-hidden--visually\" id=\"sk-estimator-id-7\" type=\"checkbox\" ><label for=\"sk-estimator-id-7\" class=\"sk-toggleable__label fitted sk-toggleable__label-arrow fitted\">&nbsp;DecisionTreeClassifier<a class=\"sk-estimator-doc-link fitted\" rel=\"noreferrer\" target=\"_blank\" href=\"https://scikit-learn.org/1.5/modules/generated/sklearn.tree.DecisionTreeClassifier.html\">?<span>Documentation for DecisionTreeClassifier</span></a></label><div class=\"sk-toggleable__content fitted\"><pre>DecisionTreeClassifier(random_state=42)</pre></div> </div></div></div></div></div></div>"
            ],
            "text/plain": [
              "Pipeline(steps=[('preprocessor',\n",
              "                 ColumnTransformer(transformers=[('num', StandardScaler(),\n",
              "                                                  ['Air temperature [K]',\n",
              "                                                   'Process temperature [K]',\n",
              "                                                   'Rotational speed [rpm]',\n",
              "                                                   'Torque [Nm]',\n",
              "                                                   'Tool wear [min]']),\n",
              "                                                 ('cat', OneHotEncoder(),\n",
              "                                                  ['Type'])])),\n",
              "                ('classifier', DecisionTreeClassifier(random_state=42))])"
            ]
          },
          "execution_count": 14,
          "metadata": {},
          "output_type": "execute_result"
        }
      ],
      "source": [
        "dt_model.fit(X_train, y_train)"
      ]
    },
    {
      "cell_type": "markdown",
      "metadata": {
        "id": "ea4lgWpurvnW"
      },
      "source": [
        "## **2.5 Pelatihan Model Logistic Regression**"
      ]
    },
    {
      "cell_type": "code",
      "execution_count": 15,
      "metadata": {
        "colab": {
          "base_uri": "https://localhost:8080/",
          "height": 195
        },
        "id": "zN88wjzZYJRF",
        "outputId": "9c2ab238-3047-4aa6-bb05-f77db90c2830"
      },
      "outputs": [
        {
          "data": {
            "text/html": [
              "<style>#sk-container-id-2 {\n",
              "  /* Definition of color scheme common for light and dark mode */\n",
              "  --sklearn-color-text: black;\n",
              "  --sklearn-color-line: gray;\n",
              "  /* Definition of color scheme for unfitted estimators */\n",
              "  --sklearn-color-unfitted-level-0: #fff5e6;\n",
              "  --sklearn-color-unfitted-level-1: #f6e4d2;\n",
              "  --sklearn-color-unfitted-level-2: #ffe0b3;\n",
              "  --sklearn-color-unfitted-level-3: chocolate;\n",
              "  /* Definition of color scheme for fitted estimators */\n",
              "  --sklearn-color-fitted-level-0: #f0f8ff;\n",
              "  --sklearn-color-fitted-level-1: #d4ebff;\n",
              "  --sklearn-color-fitted-level-2: #b3dbfd;\n",
              "  --sklearn-color-fitted-level-3: cornflowerblue;\n",
              "\n",
              "  /* Specific color for light theme */\n",
              "  --sklearn-color-text-on-default-background: var(--sg-text-color, var(--theme-code-foreground, var(--jp-content-font-color1, black)));\n",
              "  --sklearn-color-background: var(--sg-background-color, var(--theme-background, var(--jp-layout-color0, white)));\n",
              "  --sklearn-color-border-box: var(--sg-text-color, var(--theme-code-foreground, var(--jp-content-font-color1, black)));\n",
              "  --sklearn-color-icon: #696969;\n",
              "\n",
              "  @media (prefers-color-scheme: dark) {\n",
              "    /* Redefinition of color scheme for dark theme */\n",
              "    --sklearn-color-text-on-default-background: var(--sg-text-color, var(--theme-code-foreground, var(--jp-content-font-color1, white)));\n",
              "    --sklearn-color-background: var(--sg-background-color, var(--theme-background, var(--jp-layout-color0, #111)));\n",
              "    --sklearn-color-border-box: var(--sg-text-color, var(--theme-code-foreground, var(--jp-content-font-color1, white)));\n",
              "    --sklearn-color-icon: #878787;\n",
              "  }\n",
              "}\n",
              "\n",
              "#sk-container-id-2 {\n",
              "  color: var(--sklearn-color-text);\n",
              "}\n",
              "\n",
              "#sk-container-id-2 pre {\n",
              "  padding: 0;\n",
              "}\n",
              "\n",
              "#sk-container-id-2 input.sk-hidden--visually {\n",
              "  border: 0;\n",
              "  clip: rect(1px 1px 1px 1px);\n",
              "  clip: rect(1px, 1px, 1px, 1px);\n",
              "  height: 1px;\n",
              "  margin: -1px;\n",
              "  overflow: hidden;\n",
              "  padding: 0;\n",
              "  position: absolute;\n",
              "  width: 1px;\n",
              "}\n",
              "\n",
              "#sk-container-id-2 div.sk-dashed-wrapped {\n",
              "  border: 1px dashed var(--sklearn-color-line);\n",
              "  margin: 0 0.4em 0.5em 0.4em;\n",
              "  box-sizing: border-box;\n",
              "  padding-bottom: 0.4em;\n",
              "  background-color: var(--sklearn-color-background);\n",
              "}\n",
              "\n",
              "#sk-container-id-2 div.sk-container {\n",
              "  /* jupyter's `normalize.less` sets `[hidden] { display: none; }`\n",
              "     but bootstrap.min.css set `[hidden] { display: none !important; }`\n",
              "     so we also need the `!important` here to be able to override the\n",
              "     default hidden behavior on the sphinx rendered scikit-learn.org.\n",
              "     See: https://github.com/scikit-learn/scikit-learn/issues/21755 */\n",
              "  display: inline-block !important;\n",
              "  position: relative;\n",
              "}\n",
              "\n",
              "#sk-container-id-2 div.sk-text-repr-fallback {\n",
              "  display: none;\n",
              "}\n",
              "\n",
              "div.sk-parallel-item,\n",
              "div.sk-serial,\n",
              "div.sk-item {\n",
              "  /* draw centered vertical line to link estimators */\n",
              "  background-image: linear-gradient(var(--sklearn-color-text-on-default-background), var(--sklearn-color-text-on-default-background));\n",
              "  background-size: 2px 100%;\n",
              "  background-repeat: no-repeat;\n",
              "  background-position: center center;\n",
              "}\n",
              "\n",
              "/* Parallel-specific style estimator block */\n",
              "\n",
              "#sk-container-id-2 div.sk-parallel-item::after {\n",
              "  content: \"\";\n",
              "  width: 100%;\n",
              "  border-bottom: 2px solid var(--sklearn-color-text-on-default-background);\n",
              "  flex-grow: 1;\n",
              "}\n",
              "\n",
              "#sk-container-id-2 div.sk-parallel {\n",
              "  display: flex;\n",
              "  align-items: stretch;\n",
              "  justify-content: center;\n",
              "  background-color: var(--sklearn-color-background);\n",
              "  position: relative;\n",
              "}\n",
              "\n",
              "#sk-container-id-2 div.sk-parallel-item {\n",
              "  display: flex;\n",
              "  flex-direction: column;\n",
              "}\n",
              "\n",
              "#sk-container-id-2 div.sk-parallel-item:first-child::after {\n",
              "  align-self: flex-end;\n",
              "  width: 50%;\n",
              "}\n",
              "\n",
              "#sk-container-id-2 div.sk-parallel-item:last-child::after {\n",
              "  align-self: flex-start;\n",
              "  width: 50%;\n",
              "}\n",
              "\n",
              "#sk-container-id-2 div.sk-parallel-item:only-child::after {\n",
              "  width: 0;\n",
              "}\n",
              "\n",
              "/* Serial-specific style estimator block */\n",
              "\n",
              "#sk-container-id-2 div.sk-serial {\n",
              "  display: flex;\n",
              "  flex-direction: column;\n",
              "  align-items: center;\n",
              "  background-color: var(--sklearn-color-background);\n",
              "  padding-right: 1em;\n",
              "  padding-left: 1em;\n",
              "}\n",
              "\n",
              "\n",
              "/* Toggleable style: style used for estimator/Pipeline/ColumnTransformer box that is\n",
              "clickable and can be expanded/collapsed.\n",
              "- Pipeline and ColumnTransformer use this feature and define the default style\n",
              "- Estimators will overwrite some part of the style using the `sk-estimator` class\n",
              "*/\n",
              "\n",
              "/* Pipeline and ColumnTransformer style (default) */\n",
              "\n",
              "#sk-container-id-2 div.sk-toggleable {\n",
              "  /* Default theme specific background. It is overwritten whether we have a\n",
              "  specific estimator or a Pipeline/ColumnTransformer */\n",
              "  background-color: var(--sklearn-color-background);\n",
              "}\n",
              "\n",
              "/* Toggleable label */\n",
              "#sk-container-id-2 label.sk-toggleable__label {\n",
              "  cursor: pointer;\n",
              "  display: block;\n",
              "  width: 100%;\n",
              "  margin-bottom: 0;\n",
              "  padding: 0.5em;\n",
              "  box-sizing: border-box;\n",
              "  text-align: center;\n",
              "}\n",
              "\n",
              "#sk-container-id-2 label.sk-toggleable__label-arrow:before {\n",
              "  /* Arrow on the left of the label */\n",
              "  content: \"▸\";\n",
              "  float: left;\n",
              "  margin-right: 0.25em;\n",
              "  color: var(--sklearn-color-icon);\n",
              "}\n",
              "\n",
              "#sk-container-id-2 label.sk-toggleable__label-arrow:hover:before {\n",
              "  color: var(--sklearn-color-text);\n",
              "}\n",
              "\n",
              "/* Toggleable content - dropdown */\n",
              "\n",
              "#sk-container-id-2 div.sk-toggleable__content {\n",
              "  max-height: 0;\n",
              "  max-width: 0;\n",
              "  overflow: hidden;\n",
              "  text-align: left;\n",
              "  /* unfitted */\n",
              "  background-color: var(--sklearn-color-unfitted-level-0);\n",
              "}\n",
              "\n",
              "#sk-container-id-2 div.sk-toggleable__content.fitted {\n",
              "  /* fitted */\n",
              "  background-color: var(--sklearn-color-fitted-level-0);\n",
              "}\n",
              "\n",
              "#sk-container-id-2 div.sk-toggleable__content pre {\n",
              "  margin: 0.2em;\n",
              "  border-radius: 0.25em;\n",
              "  color: var(--sklearn-color-text);\n",
              "  /* unfitted */\n",
              "  background-color: var(--sklearn-color-unfitted-level-0);\n",
              "}\n",
              "\n",
              "#sk-container-id-2 div.sk-toggleable__content.fitted pre {\n",
              "  /* unfitted */\n",
              "  background-color: var(--sklearn-color-fitted-level-0);\n",
              "}\n",
              "\n",
              "#sk-container-id-2 input.sk-toggleable__control:checked~div.sk-toggleable__content {\n",
              "  /* Expand drop-down */\n",
              "  max-height: 200px;\n",
              "  max-width: 100%;\n",
              "  overflow: auto;\n",
              "}\n",
              "\n",
              "#sk-container-id-2 input.sk-toggleable__control:checked~label.sk-toggleable__label-arrow:before {\n",
              "  content: \"▾\";\n",
              "}\n",
              "\n",
              "/* Pipeline/ColumnTransformer-specific style */\n",
              "\n",
              "#sk-container-id-2 div.sk-label input.sk-toggleable__control:checked~label.sk-toggleable__label {\n",
              "  color: var(--sklearn-color-text);\n",
              "  background-color: var(--sklearn-color-unfitted-level-2);\n",
              "}\n",
              "\n",
              "#sk-container-id-2 div.sk-label.fitted input.sk-toggleable__control:checked~label.sk-toggleable__label {\n",
              "  background-color: var(--sklearn-color-fitted-level-2);\n",
              "}\n",
              "\n",
              "/* Estimator-specific style */\n",
              "\n",
              "/* Colorize estimator box */\n",
              "#sk-container-id-2 div.sk-estimator input.sk-toggleable__control:checked~label.sk-toggleable__label {\n",
              "  /* unfitted */\n",
              "  background-color: var(--sklearn-color-unfitted-level-2);\n",
              "}\n",
              "\n",
              "#sk-container-id-2 div.sk-estimator.fitted input.sk-toggleable__control:checked~label.sk-toggleable__label {\n",
              "  /* fitted */\n",
              "  background-color: var(--sklearn-color-fitted-level-2);\n",
              "}\n",
              "\n",
              "#sk-container-id-2 div.sk-label label.sk-toggleable__label,\n",
              "#sk-container-id-2 div.sk-label label {\n",
              "  /* The background is the default theme color */\n",
              "  color: var(--sklearn-color-text-on-default-background);\n",
              "}\n",
              "\n",
              "/* On hover, darken the color of the background */\n",
              "#sk-container-id-2 div.sk-label:hover label.sk-toggleable__label {\n",
              "  color: var(--sklearn-color-text);\n",
              "  background-color: var(--sklearn-color-unfitted-level-2);\n",
              "}\n",
              "\n",
              "/* Label box, darken color on hover, fitted */\n",
              "#sk-container-id-2 div.sk-label.fitted:hover label.sk-toggleable__label.fitted {\n",
              "  color: var(--sklearn-color-text);\n",
              "  background-color: var(--sklearn-color-fitted-level-2);\n",
              "}\n",
              "\n",
              "/* Estimator label */\n",
              "\n",
              "#sk-container-id-2 div.sk-label label {\n",
              "  font-family: monospace;\n",
              "  font-weight: bold;\n",
              "  display: inline-block;\n",
              "  line-height: 1.2em;\n",
              "}\n",
              "\n",
              "#sk-container-id-2 div.sk-label-container {\n",
              "  text-align: center;\n",
              "}\n",
              "\n",
              "/* Estimator-specific */\n",
              "#sk-container-id-2 div.sk-estimator {\n",
              "  font-family: monospace;\n",
              "  border: 1px dotted var(--sklearn-color-border-box);\n",
              "  border-radius: 0.25em;\n",
              "  box-sizing: border-box;\n",
              "  margin-bottom: 0.5em;\n",
              "  /* unfitted */\n",
              "  background-color: var(--sklearn-color-unfitted-level-0);\n",
              "}\n",
              "\n",
              "#sk-container-id-2 div.sk-estimator.fitted {\n",
              "  /* fitted */\n",
              "  background-color: var(--sklearn-color-fitted-level-0);\n",
              "}\n",
              "\n",
              "/* on hover */\n",
              "#sk-container-id-2 div.sk-estimator:hover {\n",
              "  /* unfitted */\n",
              "  background-color: var(--sklearn-color-unfitted-level-2);\n",
              "}\n",
              "\n",
              "#sk-container-id-2 div.sk-estimator.fitted:hover {\n",
              "  /* fitted */\n",
              "  background-color: var(--sklearn-color-fitted-level-2);\n",
              "}\n",
              "\n",
              "/* Specification for estimator info (e.g. \"i\" and \"?\") */\n",
              "\n",
              "/* Common style for \"i\" and \"?\" */\n",
              "\n",
              ".sk-estimator-doc-link,\n",
              "a:link.sk-estimator-doc-link,\n",
              "a:visited.sk-estimator-doc-link {\n",
              "  float: right;\n",
              "  font-size: smaller;\n",
              "  line-height: 1em;\n",
              "  font-family: monospace;\n",
              "  background-color: var(--sklearn-color-background);\n",
              "  border-radius: 1em;\n",
              "  height: 1em;\n",
              "  width: 1em;\n",
              "  text-decoration: none !important;\n",
              "  margin-left: 1ex;\n",
              "  /* unfitted */\n",
              "  border: var(--sklearn-color-unfitted-level-1) 1pt solid;\n",
              "  color: var(--sklearn-color-unfitted-level-1);\n",
              "}\n",
              "\n",
              ".sk-estimator-doc-link.fitted,\n",
              "a:link.sk-estimator-doc-link.fitted,\n",
              "a:visited.sk-estimator-doc-link.fitted {\n",
              "  /* fitted */\n",
              "  border: var(--sklearn-color-fitted-level-1) 1pt solid;\n",
              "  color: var(--sklearn-color-fitted-level-1);\n",
              "}\n",
              "\n",
              "/* On hover */\n",
              "div.sk-estimator:hover .sk-estimator-doc-link:hover,\n",
              ".sk-estimator-doc-link:hover,\n",
              "div.sk-label-container:hover .sk-estimator-doc-link:hover,\n",
              ".sk-estimator-doc-link:hover {\n",
              "  /* unfitted */\n",
              "  background-color: var(--sklearn-color-unfitted-level-3);\n",
              "  color: var(--sklearn-color-background);\n",
              "  text-decoration: none;\n",
              "}\n",
              "\n",
              "div.sk-estimator.fitted:hover .sk-estimator-doc-link.fitted:hover,\n",
              ".sk-estimator-doc-link.fitted:hover,\n",
              "div.sk-label-container:hover .sk-estimator-doc-link.fitted:hover,\n",
              ".sk-estimator-doc-link.fitted:hover {\n",
              "  /* fitted */\n",
              "  background-color: var(--sklearn-color-fitted-level-3);\n",
              "  color: var(--sklearn-color-background);\n",
              "  text-decoration: none;\n",
              "}\n",
              "\n",
              "/* Span, style for the box shown on hovering the info icon */\n",
              ".sk-estimator-doc-link span {\n",
              "  display: none;\n",
              "  z-index: 9999;\n",
              "  position: relative;\n",
              "  font-weight: normal;\n",
              "  right: .2ex;\n",
              "  padding: .5ex;\n",
              "  margin: .5ex;\n",
              "  width: min-content;\n",
              "  min-width: 20ex;\n",
              "  max-width: 50ex;\n",
              "  color: var(--sklearn-color-text);\n",
              "  box-shadow: 2pt 2pt 4pt #999;\n",
              "  /* unfitted */\n",
              "  background: var(--sklearn-color-unfitted-level-0);\n",
              "  border: .5pt solid var(--sklearn-color-unfitted-level-3);\n",
              "}\n",
              "\n",
              ".sk-estimator-doc-link.fitted span {\n",
              "  /* fitted */\n",
              "  background: var(--sklearn-color-fitted-level-0);\n",
              "  border: var(--sklearn-color-fitted-level-3);\n",
              "}\n",
              "\n",
              ".sk-estimator-doc-link:hover span {\n",
              "  display: block;\n",
              "}\n",
              "\n",
              "/* \"?\"-specific style due to the `<a>` HTML tag */\n",
              "\n",
              "#sk-container-id-2 a.estimator_doc_link {\n",
              "  float: right;\n",
              "  font-size: 1rem;\n",
              "  line-height: 1em;\n",
              "  font-family: monospace;\n",
              "  background-color: var(--sklearn-color-background);\n",
              "  border-radius: 1rem;\n",
              "  height: 1rem;\n",
              "  width: 1rem;\n",
              "  text-decoration: none;\n",
              "  /* unfitted */\n",
              "  color: var(--sklearn-color-unfitted-level-1);\n",
              "  border: var(--sklearn-color-unfitted-level-1) 1pt solid;\n",
              "}\n",
              "\n",
              "#sk-container-id-2 a.estimator_doc_link.fitted {\n",
              "  /* fitted */\n",
              "  border: var(--sklearn-color-fitted-level-1) 1pt solid;\n",
              "  color: var(--sklearn-color-fitted-level-1);\n",
              "}\n",
              "\n",
              "/* On hover */\n",
              "#sk-container-id-2 a.estimator_doc_link:hover {\n",
              "  /* unfitted */\n",
              "  background-color: var(--sklearn-color-unfitted-level-3);\n",
              "  color: var(--sklearn-color-background);\n",
              "  text-decoration: none;\n",
              "}\n",
              "\n",
              "#sk-container-id-2 a.estimator_doc_link.fitted:hover {\n",
              "  /* fitted */\n",
              "  background-color: var(--sklearn-color-fitted-level-3);\n",
              "}\n",
              "</style><div id=\"sk-container-id-2\" class=\"sk-top-container\"><div class=\"sk-text-repr-fallback\"><pre>Pipeline(steps=[(&#x27;preprocessor&#x27;,\n",
              "                 ColumnTransformer(transformers=[(&#x27;num&#x27;, StandardScaler(),\n",
              "                                                  [&#x27;Air temperature [K]&#x27;,\n",
              "                                                   &#x27;Process temperature [K]&#x27;,\n",
              "                                                   &#x27;Rotational speed [rpm]&#x27;,\n",
              "                                                   &#x27;Torque [Nm]&#x27;,\n",
              "                                                   &#x27;Tool wear [min]&#x27;]),\n",
              "                                                 (&#x27;cat&#x27;, OneHotEncoder(),\n",
              "                                                  [&#x27;Type&#x27;])])),\n",
              "                (&#x27;classifier&#x27;,\n",
              "                 LogisticRegression(max_iter=1000, random_state=42))])</pre><b>In a Jupyter environment, please rerun this cell to show the HTML representation or trust the notebook. <br />On GitHub, the HTML representation is unable to render, please try loading this page with nbviewer.org.</b></div><div class=\"sk-container\" hidden><div class=\"sk-item sk-dashed-wrapped\"><div class=\"sk-label-container\"><div class=\"sk-label fitted sk-toggleable\"><input class=\"sk-toggleable__control sk-hidden--visually\" id=\"sk-estimator-id-8\" type=\"checkbox\" ><label for=\"sk-estimator-id-8\" class=\"sk-toggleable__label fitted sk-toggleable__label-arrow fitted\">&nbsp;&nbsp;Pipeline<a class=\"sk-estimator-doc-link fitted\" rel=\"noreferrer\" target=\"_blank\" href=\"https://scikit-learn.org/1.5/modules/generated/sklearn.pipeline.Pipeline.html\">?<span>Documentation for Pipeline</span></a><span class=\"sk-estimator-doc-link fitted\">i<span>Fitted</span></span></label><div class=\"sk-toggleable__content fitted\"><pre>Pipeline(steps=[(&#x27;preprocessor&#x27;,\n",
              "                 ColumnTransformer(transformers=[(&#x27;num&#x27;, StandardScaler(),\n",
              "                                                  [&#x27;Air temperature [K]&#x27;,\n",
              "                                                   &#x27;Process temperature [K]&#x27;,\n",
              "                                                   &#x27;Rotational speed [rpm]&#x27;,\n",
              "                                                   &#x27;Torque [Nm]&#x27;,\n",
              "                                                   &#x27;Tool wear [min]&#x27;]),\n",
              "                                                 (&#x27;cat&#x27;, OneHotEncoder(),\n",
              "                                                  [&#x27;Type&#x27;])])),\n",
              "                (&#x27;classifier&#x27;,\n",
              "                 LogisticRegression(max_iter=1000, random_state=42))])</pre></div> </div></div><div class=\"sk-serial\"><div class=\"sk-item sk-dashed-wrapped\"><div class=\"sk-label-container\"><div class=\"sk-label fitted sk-toggleable\"><input class=\"sk-toggleable__control sk-hidden--visually\" id=\"sk-estimator-id-9\" type=\"checkbox\" ><label for=\"sk-estimator-id-9\" class=\"sk-toggleable__label fitted sk-toggleable__label-arrow fitted\">&nbsp;preprocessor: ColumnTransformer<a class=\"sk-estimator-doc-link fitted\" rel=\"noreferrer\" target=\"_blank\" href=\"https://scikit-learn.org/1.5/modules/generated/sklearn.compose.ColumnTransformer.html\">?<span>Documentation for preprocessor: ColumnTransformer</span></a></label><div class=\"sk-toggleable__content fitted\"><pre>ColumnTransformer(transformers=[(&#x27;num&#x27;, StandardScaler(),\n",
              "                                 [&#x27;Air temperature [K]&#x27;,\n",
              "                                  &#x27;Process temperature [K]&#x27;,\n",
              "                                  &#x27;Rotational speed [rpm]&#x27;, &#x27;Torque [Nm]&#x27;,\n",
              "                                  &#x27;Tool wear [min]&#x27;]),\n",
              "                                (&#x27;cat&#x27;, OneHotEncoder(), [&#x27;Type&#x27;])])</pre></div> </div></div><div class=\"sk-parallel\"><div class=\"sk-parallel-item\"><div class=\"sk-item\"><div class=\"sk-label-container\"><div class=\"sk-label fitted sk-toggleable\"><input class=\"sk-toggleable__control sk-hidden--visually\" id=\"sk-estimator-id-10\" type=\"checkbox\" ><label for=\"sk-estimator-id-10\" class=\"sk-toggleable__label fitted sk-toggleable__label-arrow fitted\">num</label><div class=\"sk-toggleable__content fitted\"><pre>[&#x27;Air temperature [K]&#x27;, &#x27;Process temperature [K]&#x27;, &#x27;Rotational speed [rpm]&#x27;, &#x27;Torque [Nm]&#x27;, &#x27;Tool wear [min]&#x27;]</pre></div> </div></div><div class=\"sk-serial\"><div class=\"sk-item\"><div class=\"sk-estimator fitted sk-toggleable\"><input class=\"sk-toggleable__control sk-hidden--visually\" id=\"sk-estimator-id-11\" type=\"checkbox\" ><label for=\"sk-estimator-id-11\" class=\"sk-toggleable__label fitted sk-toggleable__label-arrow fitted\">&nbsp;StandardScaler<a class=\"sk-estimator-doc-link fitted\" rel=\"noreferrer\" target=\"_blank\" href=\"https://scikit-learn.org/1.5/modules/generated/sklearn.preprocessing.StandardScaler.html\">?<span>Documentation for StandardScaler</span></a></label><div class=\"sk-toggleable__content fitted\"><pre>StandardScaler()</pre></div> </div></div></div></div></div><div class=\"sk-parallel-item\"><div class=\"sk-item\"><div class=\"sk-label-container\"><div class=\"sk-label fitted sk-toggleable\"><input class=\"sk-toggleable__control sk-hidden--visually\" id=\"sk-estimator-id-12\" type=\"checkbox\" ><label for=\"sk-estimator-id-12\" class=\"sk-toggleable__label fitted sk-toggleable__label-arrow fitted\">cat</label><div class=\"sk-toggleable__content fitted\"><pre>[&#x27;Type&#x27;]</pre></div> </div></div><div class=\"sk-serial\"><div class=\"sk-item\"><div class=\"sk-estimator fitted sk-toggleable\"><input class=\"sk-toggleable__control sk-hidden--visually\" id=\"sk-estimator-id-13\" type=\"checkbox\" ><label for=\"sk-estimator-id-13\" class=\"sk-toggleable__label fitted sk-toggleable__label-arrow fitted\">&nbsp;OneHotEncoder<a class=\"sk-estimator-doc-link fitted\" rel=\"noreferrer\" target=\"_blank\" href=\"https://scikit-learn.org/1.5/modules/generated/sklearn.preprocessing.OneHotEncoder.html\">?<span>Documentation for OneHotEncoder</span></a></label><div class=\"sk-toggleable__content fitted\"><pre>OneHotEncoder()</pre></div> </div></div></div></div></div></div></div><div class=\"sk-item\"><div class=\"sk-estimator fitted sk-toggleable\"><input class=\"sk-toggleable__control sk-hidden--visually\" id=\"sk-estimator-id-14\" type=\"checkbox\" ><label for=\"sk-estimator-id-14\" class=\"sk-toggleable__label fitted sk-toggleable__label-arrow fitted\">&nbsp;LogisticRegression<a class=\"sk-estimator-doc-link fitted\" rel=\"noreferrer\" target=\"_blank\" href=\"https://scikit-learn.org/1.5/modules/generated/sklearn.linear_model.LogisticRegression.html\">?<span>Documentation for LogisticRegression</span></a></label><div class=\"sk-toggleable__content fitted\"><pre>LogisticRegression(max_iter=1000, random_state=42)</pre></div> </div></div></div></div></div></div>"
            ],
            "text/plain": [
              "Pipeline(steps=[('preprocessor',\n",
              "                 ColumnTransformer(transformers=[('num', StandardScaler(),\n",
              "                                                  ['Air temperature [K]',\n",
              "                                                   'Process temperature [K]',\n",
              "                                                   'Rotational speed [rpm]',\n",
              "                                                   'Torque [Nm]',\n",
              "                                                   'Tool wear [min]']),\n",
              "                                                 ('cat', OneHotEncoder(),\n",
              "                                                  ['Type'])])),\n",
              "                ('classifier',\n",
              "                 LogisticRegression(max_iter=1000, random_state=42))])"
            ]
          },
          "execution_count": 15,
          "metadata": {},
          "output_type": "execute_result"
        }
      ],
      "source": [
        "lr_model.fit(X_train, y_train)"
      ]
    },
    {
      "cell_type": "markdown",
      "metadata": {
        "id": "lygkq-wjr06L"
      },
      "source": [
        "# **3. Hasil dan Evaluasi**"
      ]
    },
    {
      "cell_type": "markdown",
      "metadata": {
        "id": "NZPgPTiUr4PH"
      },
      "source": [
        "## **3.1 Fungsi Evaluasi Model**"
      ]
    },
    {
      "cell_type": "code",
      "execution_count": 16,
      "metadata": {
        "id": "wyDYBSIPXcg9"
      },
      "outputs": [
        {
          "name": "stdout",
          "output_type": "stream",
          "text": [
            "Evaluasi model Decision Tree tanpa tuning:\n",
            "Validation Set Classification Report:\n",
            "               precision    recall  f1-score   support\n",
            "\n",
            "           0       0.99      0.99      0.99      1932\n",
            "           1       0.64      0.62      0.63        68\n",
            "\n",
            "    accuracy                           0.97      2000\n",
            "   macro avg       0.81      0.80      0.81      2000\n",
            "weighted avg       0.97      0.97      0.97      2000\n",
            "\n",
            "Validation Set Confusion Matrix:\n",
            " [[1908   24]\n",
            " [  26   42]]\n",
            "\n",
            "Validation Recall: 0.6176470588235294, Validation F1-Score: 0.6268656716417911, Validation ROC-AUC: 0.8026123492875411 \n",
            "\n",
            "Test Set Classification Report:\n",
            "               precision    recall  f1-score   support\n",
            "\n",
            "           0       0.99      0.99      0.99      1932\n",
            "           1       0.63      0.65      0.64        68\n",
            "\n",
            "    accuracy                           0.97      2000\n",
            "   macro avg       0.81      0.82      0.81      2000\n",
            "weighted avg       0.98      0.97      0.98      2000\n",
            "\n",
            "Test Set Confusion Matrix:\n",
            " [[1906   26]\n",
            " [  24   44]]\n",
            "\n",
            "Test Recall: 0.6470588235294118, Test F1-Score: 0.6376811594202898, Test ROC-AUC: 0.8168006332967969 \n",
            "\n",
            "Cross-validation F1 scores: [0.59036145 0.47244094 0.11195446 0.4        0.68376068]\n",
            "Mean cross-validation F1 score: 0.4517035067257485\n",
            "Evaluasi model Logistic Regression tanpa tuning:\n",
            "Validation Set Classification Report:\n",
            "               precision    recall  f1-score   support\n",
            "\n",
            "           0       0.97      1.00      0.99      1932\n",
            "           1       0.73      0.24      0.36        68\n",
            "\n",
            "    accuracy                           0.97      2000\n",
            "   macro avg       0.85      0.62      0.67      2000\n",
            "weighted avg       0.97      0.97      0.96      2000\n",
            "\n",
            "Validation Set Confusion Matrix:\n",
            " [[1926    6]\n",
            " [  52   16]]\n",
            "\n",
            "Validation Recall: 0.23529411764705882, Validation F1-Score: 0.35555555555555557, Validation ROC-AUC: 0.873713615881135 \n",
            "\n",
            "Test Set Classification Report:\n",
            "               precision    recall  f1-score   support\n",
            "\n",
            "           0       0.97      1.00      0.98      1932\n",
            "           1       0.50      0.07      0.13        68\n",
            "\n",
            "    accuracy                           0.97      2000\n",
            "   macro avg       0.73      0.54      0.56      2000\n",
            "weighted avg       0.95      0.97      0.95      2000\n",
            "\n",
            "Test Set Confusion Matrix:\n",
            " [[1927    5]\n",
            " [  63    5]]\n",
            "\n",
            "Test Recall: 0.07352941176470588, Test F1-Score: 0.1282051282051282, Test ROC-AUC: 0.898109243697479 \n",
            "\n",
            "Cross-validation F1 scores: [0.13888889 0.33684211 0.28571429 0.38202247 0.11111111]\n",
            "Mean cross-validation F1 score: 0.2509157725775112\n"
          ]
        }
      ],
      "source": [
        "from sklearn.metrics import recall_score, f1_score, roc_auc_score\n",
        "\n",
        "def evaluate_model(model, X_val, y_val, X_test, y_test):\n",
        "    y_val_pred = model.predict(X_val)\n",
        "    y_val_proba = model.predict_proba(X_val)[:, 1]\n",
        "    y_test_pred = model.predict(X_test)\n",
        "    y_test_proba = model.predict_proba(X_test)[:, 1]\n",
        "\n",
        "    recall_val = recall_score(y_val, y_val_pred)\n",
        "    f1_val = f1_score(y_val, y_val_pred)\n",
        "    roc_auc_val = roc_auc_score(y_val, y_val_proba)\n",
        "    \n",
        "    recall_test = recall_score(y_test, y_test_pred)\n",
        "    f1_test = f1_score(y_test, y_test_pred)\n",
        "    roc_auc_test = roc_auc_score(y_test, y_test_proba)\n",
        "    \n",
        "    print(\"Validation Set Classification Report:\\n\", classification_report(y_val, y_val_pred))\n",
        "    print(\"Validation Set Confusion Matrix:\\n\", confusion_matrix(y_val, y_val_pred))\n",
        "    print(f'\\nValidation Recall: {recall_val}, Validation F1-Score: {f1_val}, Validation ROC-AUC: {roc_auc_val} \\n')\n",
        "\n",
        "    print(\"Test Set Classification Report:\\n\", classification_report(y_test, y_test_pred))\n",
        "    print(\"Test Set Confusion Matrix:\\n\", confusion_matrix(y_test, y_test_pred))\n",
        "    print(f'\\nTest Recall: {recall_test}, Test F1-Score: {f1_test}, Test ROC-AUC: {roc_auc_test} \\n')\n",
        "\n",
        "    cv_scores = cross_val_score(model, X, y, cv=5, scoring='f1')\n",
        "    print(f'Cross-validation F1 scores: {cv_scores}')\n",
        "    print(f'Mean cross-validation F1 score: {cv_scores.mean()}')\n",
        "\n",
        "print(\"Evaluasi model Decision Tree tanpa tuning:\")\n",
        "evaluate_model(dt_model, X_val, y_val, X_test, y_test)\n",
        "\n",
        "print(\"Evaluasi model Logistic Regression tanpa tuning:\")\n",
        "evaluate_model(lr_model, X_val, y_val, X_test, y_test)\n"
      ]
    },
    {
      "cell_type": "markdown",
      "metadata": {
        "id": "rJZ0kOF9r7wq"
      },
      "source": [
        "## **3.2 Evaluasi Model Tanpa Tuning**"
      ]
    },
    {
      "cell_type": "markdown",
      "metadata": {
        "id": "-UZ4k5HfsW3t"
      },
      "source": [
        "### **a. Model Decision Tree**"
      ]
    },
    {
      "cell_type": "code",
      "execution_count": 17,
      "metadata": {
        "colab": {
          "base_uri": "https://localhost:8080/"
        },
        "id": "MPdNkw0WQ7bc",
        "outputId": "56d6c5fd-03c3-48c0-def2-c7bb55416edb"
      },
      "outputs": [
        {
          "name": "stdout",
          "output_type": "stream",
          "text": [
            "Evaluasi model Decision Tree tanpa tuning:\n",
            "Validation Set Classification Report:\n",
            "               precision    recall  f1-score   support\n",
            "\n",
            "           0       0.99      0.99      0.99      1932\n",
            "           1       0.64      0.62      0.63        68\n",
            "\n",
            "    accuracy                           0.97      2000\n",
            "   macro avg       0.81      0.80      0.81      2000\n",
            "weighted avg       0.97      0.97      0.97      2000\n",
            "\n",
            "Validation Set Confusion Matrix:\n",
            " [[1908   24]\n",
            " [  26   42]]\n",
            "\n",
            "Validation Recall: 0.6176470588235294, Validation F1-Score: 0.6268656716417911, Validation ROC-AUC: 0.8026123492875411 \n",
            "\n",
            "Test Set Classification Report:\n",
            "               precision    recall  f1-score   support\n",
            "\n",
            "           0       0.99      0.99      0.99      1932\n",
            "           1       0.63      0.65      0.64        68\n",
            "\n",
            "    accuracy                           0.97      2000\n",
            "   macro avg       0.81      0.82      0.81      2000\n",
            "weighted avg       0.98      0.97      0.98      2000\n",
            "\n",
            "Test Set Confusion Matrix:\n",
            " [[1906   26]\n",
            " [  24   44]]\n",
            "\n",
            "Test Recall: 0.6470588235294118, Test F1-Score: 0.6376811594202898, Test ROC-AUC: 0.8168006332967969 \n",
            "\n",
            "Cross-validation F1 scores: [0.59036145 0.47244094 0.11195446 0.4        0.68376068]\n",
            "Mean cross-validation F1 score: 0.4517035067257485\n"
          ]
        }
      ],
      "source": [
        "print(\"Evaluasi model Decision Tree tanpa tuning:\")\n",
        "evaluate_model(dt_model, X_val, y_val, X_test, y_test)"
      ]
    },
    {
      "cell_type": "markdown",
      "metadata": {
        "id": "3b_YBoMAsZ16"
      },
      "source": [
        "### **b. Model Logistic Regression**"
      ]
    },
    {
      "cell_type": "code",
      "execution_count": 18,
      "metadata": {
        "colab": {
          "base_uri": "https://localhost:8080/"
        },
        "id": "9qjX2VIGY4dX",
        "outputId": "27a9f469-b4d2-443e-aece-bd0a7103975c"
      },
      "outputs": [
        {
          "name": "stdout",
          "output_type": "stream",
          "text": [
            "Evaluasi model Logistic Regression tanpa tuning:\n",
            "Validation Set Classification Report:\n",
            "               precision    recall  f1-score   support\n",
            "\n",
            "           0       0.97      1.00      0.99      1932\n",
            "           1       0.73      0.24      0.36        68\n",
            "\n",
            "    accuracy                           0.97      2000\n",
            "   macro avg       0.85      0.62      0.67      2000\n",
            "weighted avg       0.97      0.97      0.96      2000\n",
            "\n",
            "Validation Set Confusion Matrix:\n",
            " [[1926    6]\n",
            " [  52   16]]\n",
            "\n",
            "Validation Recall: 0.23529411764705882, Validation F1-Score: 0.35555555555555557, Validation ROC-AUC: 0.873713615881135 \n",
            "\n",
            "Test Set Classification Report:\n",
            "               precision    recall  f1-score   support\n",
            "\n",
            "           0       0.97      1.00      0.98      1932\n",
            "           1       0.50      0.07      0.13        68\n",
            "\n",
            "    accuracy                           0.97      2000\n",
            "   macro avg       0.73      0.54      0.56      2000\n",
            "weighted avg       0.95      0.97      0.95      2000\n",
            "\n",
            "Test Set Confusion Matrix:\n",
            " [[1927    5]\n",
            " [  63    5]]\n",
            "\n",
            "Test Recall: 0.07352941176470588, Test F1-Score: 0.1282051282051282, Test ROC-AUC: 0.898109243697479 \n",
            "\n",
            "Cross-validation F1 scores: [0.13888889 0.33684211 0.28571429 0.38202247 0.11111111]\n",
            "Mean cross-validation F1 score: 0.2509157725775112\n"
          ]
        }
      ],
      "source": [
        "print(\"Evaluasi model Logistic Regression tanpa tuning:\")\n",
        "evaluate_model(lr_model, X_val, y_val, X_test, y_test)"
      ]
    },
    {
      "cell_type": "markdown",
      "metadata": {
        "id": "CAymCobNskG_"
      },
      "source": [
        "# **4. Tuning Model**"
      ]
    },
    {
      "cell_type": "code",
      "execution_count": 19,
      "metadata": {
        "colab": {
          "base_uri": "https://localhost:8080/"
        },
        "id": "8XnWMrxUSaii",
        "outputId": "2aee0ab9-d961-4ac2-9109-c71f79a6d2dd"
      },
      "outputs": [
        {
          "name": "stdout",
          "output_type": "stream",
          "text": [
            "Best parameters for Decision Tree: {'classifier__max_depth': 10, 'classifier__min_samples_leaf': 4, 'classifier__min_samples_split': 10}\n",
            "Best parameters for Logistic Regression: {'classifier__C': 10, 'classifier__penalty': 'l2'}\n",
            "Evaluasi model Decision Tree dengan tuning:\n",
            "Validation Set Classification Report:\n",
            "               precision    recall  f1-score   support\n",
            "\n",
            "           0       0.99      0.99      0.99      1932\n",
            "           1       0.82      0.69      0.75        68\n",
            "\n",
            "    accuracy                           0.98      2000\n",
            "   macro avg       0.91      0.84      0.87      2000\n",
            "weighted avg       0.98      0.98      0.98      2000\n",
            "\n",
            "Validation Set Confusion Matrix:\n",
            " [[1922   10]\n",
            " [  21   47]]\n",
            "\n",
            "Validation Recall: 0.6911764705882353, Validation F1-Score: 0.752, Validation ROC-AUC: 0.8980369321641701 \n",
            "\n",
            "Test Set Classification Report:\n",
            "               precision    recall  f1-score   support\n",
            "\n",
            "           0       0.99      0.99      0.99      1932\n",
            "           1       0.80      0.66      0.73        68\n",
            "\n",
            "    accuracy                           0.98      2000\n",
            "   macro avg       0.90      0.83      0.86      2000\n",
            "weighted avg       0.98      0.98      0.98      2000\n",
            "\n",
            "Test Set Confusion Matrix:\n",
            " [[1921   11]\n",
            " [  23   45]]\n",
            "\n",
            "Test Recall: 0.6617647058823529, Test F1-Score: 0.7258064516129032, Test ROC-AUC: 0.8602370295944466 \n",
            "\n",
            "Cross-validation F1 scores: [0.52631579 0.52830189 0.10617761 0.4957265  0.69026549]\n",
            "Mean cross-validation F1 score: 0.4693574529791805\n",
            "Evaluasi model Logistic Regression dengan tuning:\n",
            "Validation Set Classification Report:\n",
            "               precision    recall  f1-score   support\n",
            "\n",
            "           0       0.97      1.00      0.99      1932\n",
            "           1       0.71      0.25      0.37        68\n",
            "\n",
            "    accuracy                           0.97      2000\n",
            "   macro avg       0.84      0.62      0.68      2000\n",
            "weighted avg       0.97      0.97      0.96      2000\n",
            "\n",
            "Validation Set Confusion Matrix:\n",
            " [[1925    7]\n",
            " [  51   17]]\n",
            "\n",
            "Validation Recall: 0.25, Validation F1-Score: 0.3695652173913043, Validation ROC-AUC: 0.8741703203020339 \n",
            "\n",
            "Test Set Classification Report:\n",
            "               precision    recall  f1-score   support\n",
            "\n",
            "           0       0.97      1.00      0.98      1932\n",
            "           1       0.58      0.10      0.17        68\n",
            "\n",
            "    accuracy                           0.97      2000\n",
            "   macro avg       0.78      0.55      0.58      2000\n",
            "weighted avg       0.96      0.97      0.96      2000\n",
            "\n",
            "Test Set Confusion Matrix:\n",
            " [[1927    5]\n",
            " [  61    7]]\n",
            "\n",
            "Test Recall: 0.10294117647058823, Test F1-Score: 0.175, Test ROC-AUC: 0.8986268420411644 \n",
            "\n",
            "Cross-validation F1 scores: [0.16438356 0.32       0.28333333 0.3956044  0.11111111]\n",
            "Mean cross-validation F1 score: 0.2548864803385351\n"
          ]
        }
      ],
      "source": [
        "param_grid_dt = {\n",
        "    'classifier__max_depth': [None, 10, 20, 30],\n",
        "    'classifier__min_samples_split': [2, 5, 10],\n",
        "    'classifier__min_samples_leaf': [1, 2, 4]\n",
        "}\n",
        "\n",
        "param_grid_lr = {\n",
        "    'classifier__C': [0.1, 1.0, 10],\n",
        "    'classifier__penalty': ['l2']\n",
        "}\n",
        "\n",
        "# GridSearchCV menggunakan f1 sebagai metrik utama\n",
        "grid_search_dt = GridSearchCV(dt_model, param_grid_dt, cv=5, scoring='f1')\n",
        "grid_search_lr = GridSearchCV(lr_model, param_grid_lr, cv=5, scoring='f1')\n",
        "\n",
        "grid_search_dt.fit(X_train, y_train)\n",
        "grid_search_lr.fit(X_train, y_train)\n",
        "\n",
        "print(f'Best parameters for Decision Tree: {grid_search_dt.best_params_}')\n",
        "print(f'Best parameters for Logistic Regression: {grid_search_lr.best_params_}')\n",
        "\n",
        "best_dt_model = grid_search_dt.best_estimator_\n",
        "best_lr_model = grid_search_lr.best_estimator_\n",
        "\n",
        "print(\"Evaluasi model Decision Tree dengan tuning:\")\n",
        "evaluate_model(best_dt_model, X_val, y_val, X_test, y_test)\n",
        "\n",
        "print(\"Evaluasi model Logistic Regression dengan tuning:\")\n",
        "evaluate_model(best_lr_model, X_val, y_val, X_test, y_test)\n"
      ]
    },
    {
      "cell_type": "markdown",
      "metadata": {
        "id": "DWAQZ_TKsrwM"
      },
      "source": [
        "## **4.1 Evaluasi Model dengan Tuning**"
      ]
    },
    {
      "cell_type": "markdown",
      "metadata": {
        "id": "dVyd9NLVs0Wq"
      },
      "source": [
        "### **a. Model Decision Tree**"
      ]
    },
    {
      "cell_type": "code",
      "execution_count": 20,
      "metadata": {
        "colab": {
          "base_uri": "https://localhost:8080/"
        },
        "id": "mw1nfy20TRzU",
        "outputId": "93dd677b-08fb-4569-f621-efafbe33adcc"
      },
      "outputs": [
        {
          "name": "stdout",
          "output_type": "stream",
          "text": [
            "Evaluasi model Decision Tree dengan tuning:\n",
            "Validation Set Classification Report:\n",
            "               precision    recall  f1-score   support\n",
            "\n",
            "           0       0.99      0.99      0.99      1932\n",
            "           1       0.82      0.69      0.75        68\n",
            "\n",
            "    accuracy                           0.98      2000\n",
            "   macro avg       0.91      0.84      0.87      2000\n",
            "weighted avg       0.98      0.98      0.98      2000\n",
            "\n",
            "Validation Set Confusion Matrix:\n",
            " [[1922   10]\n",
            " [  21   47]]\n",
            "\n",
            "Validation Recall: 0.6911764705882353, Validation F1-Score: 0.752, Validation ROC-AUC: 0.8980369321641701 \n",
            "\n",
            "Test Set Classification Report:\n",
            "               precision    recall  f1-score   support\n",
            "\n",
            "           0       0.99      0.99      0.99      1932\n",
            "           1       0.80      0.66      0.73        68\n",
            "\n",
            "    accuracy                           0.98      2000\n",
            "   macro avg       0.90      0.83      0.86      2000\n",
            "weighted avg       0.98      0.98      0.98      2000\n",
            "\n",
            "Test Set Confusion Matrix:\n",
            " [[1921   11]\n",
            " [  23   45]]\n",
            "\n",
            "Test Recall: 0.6617647058823529, Test F1-Score: 0.7258064516129032, Test ROC-AUC: 0.8602370295944466 \n",
            "\n",
            "Cross-validation F1 scores: [0.52631579 0.52830189 0.10617761 0.4957265  0.69026549]\n",
            "Mean cross-validation F1 score: 0.4693574529791805\n"
          ]
        }
      ],
      "source": [
        "print(\"Evaluasi model Decision Tree dengan tuning:\")\n",
        "evaluate_model(best_dt_model, X_val, y_val, X_test, y_test)"
      ]
    },
    {
      "cell_type": "markdown",
      "metadata": {
        "id": "yKjSJYBms_hu"
      },
      "source": [
        "### **b. Model Logistic Regression**"
      ]
    },
    {
      "cell_type": "code",
      "execution_count": 21,
      "metadata": {
        "colab": {
          "base_uri": "https://localhost:8080/"
        },
        "id": "8n4Vw46qcL6B",
        "outputId": "6687b869-661c-4548-ec87-b5835b905705"
      },
      "outputs": [
        {
          "name": "stdout",
          "output_type": "stream",
          "text": [
            "Evaluasi model Logistic Regression dengan tuning:\n",
            "Validation Set Classification Report:\n",
            "               precision    recall  f1-score   support\n",
            "\n",
            "           0       0.97      1.00      0.99      1932\n",
            "           1       0.71      0.25      0.37        68\n",
            "\n",
            "    accuracy                           0.97      2000\n",
            "   macro avg       0.84      0.62      0.68      2000\n",
            "weighted avg       0.97      0.97      0.96      2000\n",
            "\n",
            "Validation Set Confusion Matrix:\n",
            " [[1925    7]\n",
            " [  51   17]]\n",
            "\n",
            "Validation Recall: 0.25, Validation F1-Score: 0.3695652173913043, Validation ROC-AUC: 0.8741703203020339 \n",
            "\n",
            "Test Set Classification Report:\n",
            "               precision    recall  f1-score   support\n",
            "\n",
            "           0       0.97      1.00      0.98      1932\n",
            "           1       0.58      0.10      0.17        68\n",
            "\n",
            "    accuracy                           0.97      2000\n",
            "   macro avg       0.78      0.55      0.58      2000\n",
            "weighted avg       0.96      0.97      0.96      2000\n",
            "\n",
            "Test Set Confusion Matrix:\n",
            " [[1927    5]\n",
            " [  61    7]]\n",
            "\n",
            "Test Recall: 0.10294117647058823, Test F1-Score: 0.175, Test ROC-AUC: 0.8986268420411644 \n",
            "\n",
            "Cross-validation F1 scores: [0.16438356 0.32       0.28333333 0.3956044  0.11111111]\n",
            "Mean cross-validation F1 score: 0.2548864803385351\n"
          ]
        }
      ],
      "source": [
        "print(\"Evaluasi model Logistic Regression dengan tuning:\")\n",
        "evaluate_model(best_lr_model, X_val, y_val, X_test, y_test)"
      ]
    },
    {
      "cell_type": "markdown",
      "metadata": {
        "id": "TCBgDcbptD37"
      },
      "source": [
        "# **5. Visualisasi Hasil Model**"
      ]
    },
    {
      "cell_type": "markdown",
      "metadata": {
        "id": "zebs0yi9tMA1"
      },
      "source": [
        "## **5.1 ROC Curve**"
      ]
    },
    {
      "cell_type": "code",
      "execution_count": 22,
      "metadata": {
        "colab": {
          "base_uri": "https://localhost:8080/",
          "height": 773
        },
        "id": "YqlB8ZyueAjz",
        "outputId": "73b60fc5-fdb0-4e26-d77d-be1397a0c58a"
      },
      "outputs": [
        {
          "name": "stdout",
          "output_type": "stream",
          "text": [
            "\n",
            "ROC Curve for each model:\n"
          ]
        },
        {
          "data": {
            "image/png": "[encoded data removed]",
            "text/plain": [
              "<Figure size 1200x800 with 1 Axes>"
            ]
          },
          "metadata": {},
          "output_type": "display_data"
        }
      ],
      "source": [
        "def plot_roc_curve(models, X_val, y_val, X_test, y_test):\n",
        "    plt.figure(figsize=(12, 8))\n",
        "\n",
        "    for name, model in models.items():\n",
        "        y_val_proba = model.predict_proba(X_val)[:, 1]\n",
        "        fpr_val, tpr_val, _ = roc_curve(y_val, y_val_proba)\n",
        "        roc_auc_val = auc(fpr_val, tpr_val)\n",
        "\n",
        "        y_test_proba = model.predict_proba(X_test)[:, 1]\n",
        "        fpr_test, tpr_test, _ = roc_curve(y_test, y_test_proba)\n",
        "        roc_auc_test = auc(fpr_test, tpr_test)\n",
        "\n",
        "        plt.plot(fpr_val, tpr_val, linestyle='--', label=f'{name} (Validation) (AUC = {roc_auc_val:.2f})')\n",
        "        plt.plot(fpr_test, tpr_test, label=f'{name} (Test) (AUC = {roc_auc_test:.2f})')\n",
        "\n",
        "    plt.plot([0, 1], [0, 1], 'k--')\n",
        "    plt.xlim([0.0, 1.0])\n",
        "    plt.ylim([0.0, 1.05])\n",
        "    plt.xlabel('False Positive Rate')\n",
        "    plt.ylabel('True Positive Rate')\n",
        "    plt.title('ROC Curve')\n",
        "    plt.legend(loc='lower right')\n",
        "    plt.show()\n",
        "\n",
        "models = {\n",
        "    'Decision Tree (untuned)': dt_model,\n",
        "    'Decision Tree (tuned)': best_dt_model,\n",
        "    'Logistic Regression (untuned)': lr_model,\n",
        "    'Logistic Regression (tuned)': best_lr_model\n",
        "}\n",
        "\n",
        "print(\"\\nROC Curve for each model:\")\n",
        "plot_roc_curve(models, X_val, y_val, X_test, y_test)"
      ]
    },
    {
      "cell_type": "markdown",
      "metadata": {
        "id": "BRsKfUGWtQYv"
      },
      "source": [
        "## **5.2 Precision-Recall Curve**"
      ]
    },
    {
      "cell_type": "code",
      "execution_count": 23,
      "metadata": {
        "colab": {
          "base_uri": "https://localhost:8080/",
          "height": 650
        },
        "id": "mYjjHCldfnsm",
        "outputId": "d6e661f0-3678-41f4-c91e-cadf0273d896"
      },
      "outputs": [
        {
          "name": "stdout",
          "output_type": "stream",
          "text": [
            "\n",
            "Precision-Recall Curve for each model:\n"
          ]
        },
        {
          "data": {
            "image/png": "[encoded data removed]",
            "text/plain": [
              "<Figure size 1200x800 with 1 Axes>"
            ]
          },
          "metadata": {},
          "output_type": "display_data"
        }
      ],
      "source": [
        "def plot_precision_recall_curve(models, X_val, y_val, X_test, y_test):\n",
        "    plt.figure(figsize=(12, 8))\n",
        "\n",
        "    for name, model in models.items():\n",
        "        y_val_proba = model.predict_proba(X_val)[:, 1]\n",
        "        precision_val, recall_val, _ = precision_recall_curve(y_val, y_val_proba)\n",
        "\n",
        "        y_test_proba = model.predict_proba(X_test)[:, 1]\n",
        "        precision_test, recall_test, _ = precision_recall_curve(y_test, y_test_proba)\n",
        "\n",
        "        plt.plot(recall_val, precision_val, linestyle='--', label=f'{name} (Validation)')\n",
        "        plt.plot(recall_test, precision_test, label=f'{name} (Test)')\n",
        "\n",
        "    plt.xlabel('Recall')\n",
        "    plt.ylabel('Precision')\n",
        "    plt.title('Precision-Recall Curve')\n",
        "    plt.legend(loc='best')\n",
        "    plt.show()\n",
        "\n",
        "print(\"\\nPrecision-Recall Curve for each model:\")\n",
        "plot_precision_recall_curve(models, X_val, y_val, X_test, y_test)"
      ]
    },
    {
      "cell_type": "markdown",
      "metadata": {
        "id": "6w5hkY8gtTtt"
      },
      "source": [
        "# **6. Hasil Analisis dan Kesimpulan**"
      ]
    },
    {
      "cell_type": "markdown",
      "metadata": {
        "id": "0UMydIZNwIhP"
      },
      "source": [
        "## **6.1 Hasil Analisis Tanpa Tuning**"
      ]
    },
    {
      "cell_type": "markdown",
      "metadata": {
        "id": "AahWG47JxKWU"
      },
      "source": [
        "### **a. Model Decision Tree**"
      ]
    },
    {
      "cell_type": "markdown",
      "metadata": {
        "id": "NVfZzzPhwNff"
      },
      "source": [
        "Validation Set:\n",
        "- Precision untuk kelas 0: 0.99\n",
        "- Recall untuk kelas 0: 0.99\n",
        "- Precision untuk kelas 1: 0.64\n",
        "- Recall untuk kelas 1: 0.62\n",
        "- F1-score untuk kelas 0: 0.99\n",
        "- F1-score untuk kelas 1: 0.63\n",
        "- Akurasi: 0.97\n",
        "- Macro average F1-score: 0.81\n",
        "- Weighted average F1-score: 0.97\n",
        "- ROC-AUC: 0.8026\n",
        "\n",
        "Test Set:\n",
        "- Precision untuk kelas 0: 0.99\n",
        "- Recall untuk kelas 0: 0.99\n",
        "- Precision untuk kelas 1: 0.63\n",
        "- Recall untuk kelas 1: 0.65\n",
        "- F1-score untuk kelas 0: 0.99\n",
        "- F1-score untuk kelas 1: 0.64\n",
        "- Akurasi: 0.97\n",
        "- Macro average F1-score: 0.81\n",
        "- Weighted average F1-score: 0.98\n",
        "- ROC-AUC: 0.8168\n",
        "\n",
        "Cross-validation:\n",
        "- F1 scores: [0.5904, 0.4724, 0.1120, 0.4000, 0.6838]\n",
        "- Mean F1 score: 0.4517\n",
        "\n",
        "Hasil:\n",
        "- Model ini menunjukkan performa yang sangat baik untuk kelas mayoritas (0), namun kurang baik untuk kelas minoritas (1), terutama pada recall dan F1-score.\n",
        "- ROC-AUC menunjukkan kemampuan model dalam membedakan antara kelas dengan baik, meskipun performa pada kelas minoritas masih perlu diperbaiki.\n",
        "- Cross-validation menunjukkan variabilitas yang tinggi, menandakan model ini mungkin tidak terlalu stabil pada data yang berbeda."
      ]
    },
    {
      "cell_type": "markdown",
      "metadata": {
        "id": "H5XDETfWxNIL"
      },
      "source": [
        "### **b. Model Logistic Regression**"
      ]
    },
    {
      "cell_type": "markdown",
      "metadata": {
        "id": "XBezc3B7xU6V"
      },
      "source": [
        "Validation Set:\n",
        "- Precision untuk kelas 0: 0.97\n",
        "- Recall untuk kelas 0: 1.00\n",
        "- Precision untuk kelas 1: 0.73\n",
        "- Recall untuk kelas 1: 0.24\n",
        "- F1-score untuk kelas 0: 0.99\n",
        "- F1-score untuk kelas 1: 0.36\n",
        "- Akurasi: 0.97\n",
        "- Macro average F1-score: 0.67\n",
        "- Weighted average F1-score: 0.96\n",
        "- ROC-AUC: 0.8737\n",
        "\n",
        "Test Set:\n",
        "- Precision untuk kelas 0: 0.97\n",
        "- Recall untuk kelas 0: 1.00\n",
        "- Precision untuk kelas 1: 0.50\n",
        "- Recall untuk kelas 1: 0.07\n",
        "- F1-score untuk kelas 0: 0.98\n",
        "- F1-score untuk kelas 1: 0.13\n",
        "- Akurasi: 0.97\n",
        "- Macro average F1-score: 0.56\n",
        "- Weighted average F1-score: 0.95\n",
        "- ROC-AUC: 0.8981\n",
        "\n",
        "Cross-validation:\n",
        "- F1 scores: [0.1389, 0.3368, 0.2857, 0.3820, 0.1111]\n",
        "- Mean F1 score: 0.2509\n",
        "\n",
        "Hasil:\n",
        "- Model ini kurang mampu menangani kelas minoritas (1), terutama pada recall dan F1-score.\n",
        "- ROC-AUC menunjukkan bahwa model ini lebih baik dalam membedakan antara kelas dibandingkan model Decision Tree tanpa tuning.\n",
        "- Variabilitas dalam cross-validation menunjukkan bahwa model ini tidak terlalu konsisten."
      ]
    },
    {
      "cell_type": "markdown",
      "metadata": {
        "id": "CzjuDZ68x2vA"
      },
      "source": [
        "## **6.2 Hasil Analisis Dengan Tuning**"
      ]
    },
    {
      "cell_type": "markdown",
      "metadata": {
        "id": "iOyXpMXBx9tm"
      },
      "source": [
        "### **a. Model Decision Tree**"
      ]
    },
    {
      "cell_type": "markdown",
      "metadata": {
        "id": "CHmNOPmqywYj"
      },
      "source": [
        "Validation Set:\n",
        "- Precision untuk kelas 0: 0.99\n",
        "- Recall untuk kelas 0: 0.99\n",
        "- Precision untuk kelas 1: 0.82\n",
        "- Recall untuk kelas 1: 0.69\n",
        "- F1-score untuk kelas 0: 0.99\n",
        "- F1-score untuk kelas 1: 0.75\n",
        "- Akurasi: 0.98\n",
        "- Macro average F1-score: 0.87\n",
        "- Weighted average F1-score: 0.98\n",
        "- ROC-AUC: 0.8980\n",
        "\n",
        "Test Set:\n",
        "- Precision untuk kelas 0: 0.99\n",
        "- Recall untuk kelas 0: 0.99\n",
        "- Precision untuk kelas 1: 0.80\n",
        "- Recall untuk kelas 1: 0.66\n",
        "- F1-score untuk kelas 0: 0.99\n",
        "- F1-score untuk kelas 1: 0.73\n",
        "- Akurasi: 0.98\n",
        "- Macro average F1-score: 0.86\n",
        "- Weighted average F1-score: 0.98\n",
        "- ROC-AUC: 0.8602\n",
        "\n",
        "Cross-validation:\n",
        "- F1 scores: [0.5263, 0.5283, 0.1062, 0.4957, 0.6903]\n",
        "- Mean F1 score: 0.4694\n",
        "\n",
        "Hasil:\n",
        "- Setelah tuning, performa model Decision Tree meningkat, terutama pada recall dan F1-score untuk kelas 1.\n",
        "- Meskipun tuning memperbaiki beberapa aspek, variabilitas cross-validation masih tinggi."
      ]
    },
    {
      "cell_type": "markdown",
      "metadata": {
        "id": "Tw5RsMYax6uP"
      },
      "source": [
        "### **b. Model Logistic Regression**"
      ]
    },
    {
      "cell_type": "markdown",
      "metadata": {
        "id": "EmkGzbeSzJA8"
      },
      "source": [
        "Validation Set:\n",
        "\n",
        "- Precision untuk kelas 0: 0.97\n",
        "- Recall untuk kelas 0: 1.00\n",
        "- Precision untuk kelas 1: 0.71\n",
        "- Recall untuk kelas 1: 0.25\n",
        "- F1-score untuk kelas 0: 0.99\n",
        "- F1-score untuk kelas 1: 0.37\n",
        "- Akurasi: 0.97\n",
        "- Macro average F1-score: 0.68\n",
        "- Weighted average F1-score: 0.96\n",
        "- ROC-AUC: 0.8742\n",
        "\n",
        "Test Set:\n",
        "- Precision untuk kelas 0: 0.97\n",
        "- Recall untuk kelas 0: 1.00\n",
        "- Precision untuk kelas 1: 0.58\n",
        "- Recall untuk kelas 1: 0.10\n",
        "- F1-score untuk kelas 0: 0.98\n",
        "- F1-score untuk kelas 1: 0.17\n",
        "- Akurasi: 0.97\n",
        "- Macro average F1-score: 0.58\n",
        "- Weighted average F1-score: 0.96\n",
        "- ROC-AUC: 0.8986\n",
        "\n",
        "Cross-validation:\n",
        "- F1 scores: [0.1644, 0.3200, 0.2833, 0.3956, 0.1111]\n",
        "- Mean F1 score: 0.2549\n",
        "\n",
        "Hasil:\n",
        "- Setelah tuning, performa model Logistic Regression meningkat sedikit, terutama pada recall dan F1-score untuk kelas 1, namun tetap kurang memadai.\n",
        "- Variabilitas dalam cross-validation masih tinggi, menunjukkan performa yang tidak konsisten."
      ]
    },
    {
      "cell_type": "markdown",
      "metadata": {
        "id": "SclNRBjXz1Ar"
      },
      "source": [
        "## **6.3 Kesimpulan**"
      ]
    },
    {
      "cell_type": "markdown",
      "metadata": {
        "id": "MJOrcCeWz98l"
      },
      "source": [
        "Decision Tree Tanpa Tuning:\n",
        "- Sangat baik dalam memprediksi kelas mayoritas (0) namun kurang baik dalam memprediksi kelas minoritas (1).\n",
        "- ROC-AUC menunjukkan kemampuan model dalam membedakan antara kelas yang baik, tetapi performa pada kelas minoritas masih perlu perbaikan.\n",
        "- Variabilitas cross-validation menunjukkan performa yang tidak stabil.\n",
        "\n",
        "Logistic Regression Tanpa Tuning:\n",
        "- Kurang mampu menangani kelas minoritas (1), terutama pada recall dan F1-score.\n",
        "- ROC-AUC menunjukkan bahwa model ini lebih baik dalam membedakan antara kelas dibandingkan Decision Tree tanpa tuning.\n",
        "- Variabilitas dalam cross-validation menunjukkan performa yang tidak konsisten.\n",
        "\n",
        "Decision Tree dengan Tuning:\n",
        "- Peningkatan performa setelah tuning, terutama pada recall dan F1-score untuk kelas 1.\n",
        "- ROC-AUC menunjukkan perbaikan dalam kemampuan model untuk membedakan kelas setelah tuning.\n",
        "- Meskipun tuning memperbaiki beberapa aspek, variabilitas cross-validation masih tinggi.\n",
        "\n",
        "Logistic Regression dengan Tuning:\n",
        "- Performa meningkat sedikit setelah tuning, namun masih kurang memadai terutama pada recall dan F1-score untuk kelas 1.\n",
        "- ROC-AUC menunjukkan perbaikan dalam kemampuan model untuk membedakan kelas, namun tidak cukup signifikan untuk mengatasi masalah dengan kelas minoritas.\n",
        "- Variabilitas dalam cross-validation masih tinggi, menunjukkan performa yang tidak konsisten."
      ]
    },
    {
      "cell_type": "markdown",
      "metadata": {
        "id": "tE-36HuD0foS"
      },
      "source": [
        "# **7. Rekomendasi**"
      ]
    },
    {
      "cell_type": "markdown",
      "metadata": {
        "id": "gufoemxD0UsB"
      },
      "source": [
        "Model Decision Tree dengan Tuning adalah pilihan yang lebih baik dibandingkan model lainnya untuk dataset ini, terutama karena peningkatan performa dan keseimbangan antara precision dan recall setelah tuning. \n",
        "Catatan:\n",
        "- Dalam evaluasi model, sangat penting untuk memilih metrik yang sesuai dengan kasus penggunaan. Untuk mendeteksi kegagalan mesin, metrik seperti recall dan F1-score untuk kelas minoritas lebih relevan dibandingkan akurasi secara keseluruhan.\n",
        "- Penggunaan mean cross-validation score sebagai F1-score juga lebih sesuai untuk memastikan model memiliki performa yang konsisten pada berbagai subset data.\n"
      ]
    }
  ],
  "metadata": {
    "colab": {
      "provenance": [],
      "toc_visible": true
    },
    "kernelspec": {
      "display_name": "Python 3",
      "name": "python3"
    },
    "language_info": {
      "codemirror_mode": {
        "name": "ipython",
        "version": 3
      },
      "file_extension": ".py",
      "mimetype": "text/x-python",
      "name": "python",
      "nbconvert_exporter": "python",
      "pygments_lexer": "ipython3",
      "version": "3.10.12"
    }
  },
  "nbformat": 4,
  "nbformat_minor": 0
}
